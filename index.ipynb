{
 "cells": [
  {
   "cell_type": "markdown",
   "id": "23b39ae1-767d-458d-b32f-42264dc516bf",
   "metadata": {},
   "source": [
    "# <span style=\"font-family: 'Brush Script MT', cursive;font-size: 56px;color: hotpink ;\">FROM SCRIPT TO STATS </span>  - THE FILM INDUSTRY ANALYSIS"
   ]
  },
  {
   "cell_type": "markdown",
   "id": "97d44b47-fa84-4d16-af22-0a65a1d254f7",
   "metadata": {},
   "source": [
    "# 1. BUSINESS UNDERSTANDING\n",
    "Everyone loves a story and movies tell them best.The movie industry whether hollywood,nollywood or even bollywood is a very intresting industry.Alot goes into making a film : production ,casting ,distribution and many other major sectors.For the longest time the industry has been viewed as a **high risk, high reward venture**.This is because of the unpredictable box office performance to shifting audience prefrences among other factors.For example movie budgets can go up to billions of dollars and not a guaranteed return on profits.\n",
    "\n",
    "However, the rise of international markets streaming platforms and production strategies,the industry offers new ideas to mitigate and capitalize on high yield opportunities.**We can conclude that when movies are well excuted movies/films generally yeild high returns.**\n",
    "\n",
    "In this analysis we shall be comparing budgets to profits,analyze genre performance in the box office and analyze trends over time to help us derive useful insights over the years.All this to answer questions and have useful information to prepare us before we venture into this industry. "
   ]
  },
  {
   "cell_type": "markdown",
   "id": "231a5a9b-122d-49b5-a217-a7fe464b8b7b",
   "metadata": {},
   "source": [
    "<img src=\"blackpanther.webp\" width=\"900\" height=\"300\" style=\"image-rendering: auto;\">\n"
   ]
  },
  {
   "cell_type": "markdown",
   "id": "654662dc-ffbf-456a-ab9a-6212422be694",
   "metadata": {},
   "source": [
    "# 2. OBJECTIVES"
   ]
  },
  {
   "cell_type": "markdown",
   "id": "e6807cfb-f5db-4930-8a9f-55a591ef34fb",
   "metadata": {},
   "source": [
    "**2.1 Main objectives**\n",
    "1. To investigate and analyze films that are doing well in the box office in the last decade."
   ]
  },
  {
   "cell_type": "markdown",
   "id": "87315641-d002-4189-ab1c-7c22ccb38016",
   "metadata": {},
   "source": [
    "**2.2 specific objectives**\n",
    "1. To identify the most popular genres that are highly rated.\n",
    "2. To provide insights on investment opportunities in the film industry.\n",
    "3. To help stakeholders to plan and be aware of competition( studios' that are doing well)\n",
    "4. To check the relationship between production budget and worldwide gross.\n",
    "5. To look at the trends in domestic vs foreign gross over the years.\n",
    "6. To compare the effects of ratings on movies."
   ]
  },
  {
   "cell_type": "markdown",
   "id": "983d6482-ba7f-42fe-abcd-8d755d2ca938",
   "metadata": {},
   "source": [
    "**2.3 Metric of success**\n",
    "\n",
    "To correctly identify the current box office highly grossing films over the last decade on merits such as genre, rating and worldwide_grossing."
   ]
  },
  {
   "cell_type": "markdown",
   "id": "e49db283-10b9-4edb-ac79-323e506b75b8",
   "metadata": {},
   "source": [
    "# 3.EXPERIMENTAL DESIGN\n",
    "Below is the expected workflow:\n",
    "\n",
    " * Loading our libraries and dataset\n",
    " * Data Cleaning and preparation\n",
    " * Dealing with missing values\n",
    " * Dealing with duplicates\n",
    " * merging datasets\n",
    " * using a database\n",
    "\n",
    "* Performing EDA\n",
    "   * Univariate Analysis\n",
    "   * Bivariate Analysis\n",
    "   * Multivariate Analysis\n",
    "\n",
    "\n",
    "* Conclusion\n",
    "\n",
    "* Recommendations\n",
    "\n",
    "\n"
   ]
  },
  {
   "cell_type": "markdown",
   "id": "97611ada-d303-4142-ae97-08c59f316ae2",
   "metadata": {},
   "source": [
    "# 4. DATA UNDERSTANDING\n",
    "There are 5 datasets and 1 dataframe namely:`bom_movie.gross.csv`, `tn.movie_budgets.csv` , `rt.movie_info.tsv` , `rt.reviwes.tsv`,`tmb.movies.csv` and `IMDB` database.They were derived from the following websites.\n",
    "* [Box Office Mojo](https://www.boxofficemojo.com/)\n",
    "* [IMDB](https://www.imdb.com/)\n",
    "* [Rotten Tomatoes](https://www.rottentomatoes.com/)\n",
    "* [TheMovieDB](https://www.themoviedb.org/)\n",
    "* [The Numbers](https://www.the-numbers.com/)\n",
    "\n",
    "**4.1  <u>DATASET 1</u> , the dataset `rt.movie_info.tsv` and `rt.reviwes.tsv`are inner joined to form the datset `mergedinfo_reviews` with 54,432 rows and 7 columns.Our focus will be on the following columns.**\n",
    "\n",
    "* `id`  a unique indentifier         \n",
    "* `rating` age based classification         \n",
    "* `genre`  style or movie describtion      \n",
    "* `runtime` the time a movie takes     \n",
    "* `fresh`  fresh/rotten review given to a movie by audience   \n",
    "\n",
    "\n",
    "**4.2  <u>DATASET 2</u> , the dataset`bom_movie.gross.csv`and `tn.movie_budgets.csv` are left joined to form the dataset `mergedbom_budgets.csv` with 5,782 rows and 8 columns.We will be working with the following columns.**\n",
    "* `id` a unique identifier of the dataset\n",
    "* `release_date` the date various movies where released\n",
    "* `production_budget` the money allocated to making various movies\n",
    "* `domestic_gross_x` total box office returns of various movies within it's country\n",
    "* `worldwide_gross` total box office returns of various movies globally\n",
    "* `studio`           film production and distribution company\n",
    "* `foreign_gross_estimate`total box office returns of various movies internationally\n",
    "* `gross_profit` the amount of money a movie makes after subtracting the budget\n",
    "\n",
    "\n",
    "**4.3  <u>IMDB DATABASE</u> , we used 2 tables from this database namely `movie_basics` and `movie_ratings` and inner join on the column `movie_id` which i cleaned and saved as `IMDB.CSV` database with 73,856 rows and 5 columns** namely:\n",
    "* `movie_id`       unique identifier (primary key)\n",
    "* `primary_title`  title of the movie    \n",
    "* `genres`          style or movie description\n",
    "* `averagerating`    the score a movie recieves out of 10 on how good it is\n",
    "* `numvotes`       total votes a movie got\n"
   ]
  },
  {
   "cell_type": "markdown",
   "id": "8371b02d-e2c4-4e42-b923-7c99457c6032",
   "metadata": {},
   "source": [
    "# For the Tableau presentation click this [link](https://public.tableau.com/app/profile/daisy.thomas8647/viz/Book1_17542800680300/Dashboard4)\n",
    "\n",
    "# For the Non-Technical presentation refer to this [link](presentation.pdf)"
   ]
  },
  {
   "cell_type": "markdown",
   "id": "5280f4bb-6636-46fc-9167-ce9131ba4fe6",
   "metadata": {},
   "source": [
    "# 5. DATA PREPARATION"
   ]
  },
  {
   "cell_type": "markdown",
   "id": "9314ef6e-4529-457f-addd-db9ba2b82ea3",
   "metadata": {},
   "source": [
    "# 5.1 Data exploration"
   ]
  },
  {
   "cell_type": "markdown",
   "id": "e3bfc8da-0aac-427f-8262-3db7792e5c3e",
   "metadata": {},
   "source": [
    "### 5.1.1 LOADING LIBRARIES"
   ]
  },
  {
   "cell_type": "code",
   "execution_count": 1,
   "id": "5309cd30-d666-4da4-bf93-4c90aea0de2e",
   "metadata": {},
   "outputs": [],
   "source": [
    "#import all the necessary libraries\n",
    "import pandas as pd\n",
    "import numpy as np\n",
    "import matplotlib.pyplot as plt\n",
    "%matplotlib inline\n",
    "import seaborn as sns"
   ]
  },
  {
   "cell_type": "markdown",
   "id": "ef1447c6-f005-4b12-9371-1bd8da499e6c",
   "metadata": {},
   "source": [
    "Let's load the dataset and prepare the dataset that will be used in this analysis.In order to do this we have to look at each dataset individually before any other step then we will continue to clean the dataset before merging them."
   ]
  },
  {
   "cell_type": "markdown",
   "id": "ac04ed87-77ad-464e-9a20-705ae7b59d6b",
   "metadata": {},
   "source": [
    "### 5.1.2 LOADING A DATASET"
   ]
  },
  {
   "cell_type": "markdown",
   "id": "3437ad57-d672-457a-b6ea-13e59aeb48b8",
   "metadata": {},
   "source": [
    "# * `bom_movie.gross.csv`"
   ]
  },
  {
   "cell_type": "code",
   "execution_count": 2,
   "id": "fd7c921b-4937-4780-bde2-8cee9a9c1a0b",
   "metadata": {},
   "outputs": [
    {
     "data": {
      "text/html": [
       "<div>\n",
       "<style scoped>\n",
       "    .dataframe tbody tr th:only-of-type {\n",
       "        vertical-align: middle;\n",
       "    }\n",
       "\n",
       "    .dataframe tbody tr th {\n",
       "        vertical-align: top;\n",
       "    }\n",
       "\n",
       "    .dataframe thead th {\n",
       "        text-align: right;\n",
       "    }\n",
       "</style>\n",
       "<table border=\"1\" class=\"dataframe\">\n",
       "  <thead>\n",
       "    <tr style=\"text-align: right;\">\n",
       "      <th></th>\n",
       "      <th>title</th>\n",
       "      <th>studio</th>\n",
       "      <th>domestic_gross</th>\n",
       "      <th>foreign_gross</th>\n",
       "      <th>year</th>\n",
       "    </tr>\n",
       "  </thead>\n",
       "  <tbody>\n",
       "    <tr>\n",
       "      <th>0</th>\n",
       "      <td>Toy Story 3</td>\n",
       "      <td>BV</td>\n",
       "      <td>415000000.0</td>\n",
       "      <td>652000000</td>\n",
       "      <td>2010</td>\n",
       "    </tr>\n",
       "    <tr>\n",
       "      <th>1</th>\n",
       "      <td>Alice in Wonderland (2010)</td>\n",
       "      <td>BV</td>\n",
       "      <td>334200000.0</td>\n",
       "      <td>691300000</td>\n",
       "      <td>2010</td>\n",
       "    </tr>\n",
       "    <tr>\n",
       "      <th>2</th>\n",
       "      <td>Harry Potter and the Deathly Hallows Part 1</td>\n",
       "      <td>WB</td>\n",
       "      <td>296000000.0</td>\n",
       "      <td>664300000</td>\n",
       "      <td>2010</td>\n",
       "    </tr>\n",
       "    <tr>\n",
       "      <th>3</th>\n",
       "      <td>Inception</td>\n",
       "      <td>WB</td>\n",
       "      <td>292600000.0</td>\n",
       "      <td>535700000</td>\n",
       "      <td>2010</td>\n",
       "    </tr>\n",
       "    <tr>\n",
       "      <th>4</th>\n",
       "      <td>Shrek Forever After</td>\n",
       "      <td>P/DW</td>\n",
       "      <td>238700000.0</td>\n",
       "      <td>513900000</td>\n",
       "      <td>2010</td>\n",
       "    </tr>\n",
       "  </tbody>\n",
       "</table>\n",
       "</div>"
      ],
      "text/plain": [
       "                                         title studio  domestic_gross  \\\n",
       "0                                  Toy Story 3     BV     415000000.0   \n",
       "1                   Alice in Wonderland (2010)     BV     334200000.0   \n",
       "2  Harry Potter and the Deathly Hallows Part 1     WB     296000000.0   \n",
       "3                                    Inception     WB     292600000.0   \n",
       "4                          Shrek Forever After   P/DW     238700000.0   \n",
       "\n",
       "  foreign_gross  year  \n",
       "0     652000000  2010  \n",
       "1     691300000  2010  \n",
       "2     664300000  2010  \n",
       "3     535700000  2010  \n",
       "4     513900000  2010  "
      ]
     },
     "execution_count": 2,
     "metadata": {},
     "output_type": "execute_result"
    }
   ],
   "source": [
    "bom_movie = pd.read_csv(\"bom.movie_gross.csv\")\n",
    "bom_movie.head()"
   ]
  },
  {
   "cell_type": "code",
   "execution_count": 3,
   "id": "3e88363f-80b2-4682-8ff9-37832f8487bd",
   "metadata": {},
   "outputs": [
    {
     "name": "stdout",
     "output_type": "stream",
     "text": [
      "<class 'pandas.core.frame.DataFrame'>\n",
      "RangeIndex: 3387 entries, 0 to 3386\n",
      "Data columns (total 5 columns):\n",
      " #   Column          Non-Null Count  Dtype  \n",
      "---  ------          --------------  -----  \n",
      " 0   title           3387 non-null   object \n",
      " 1   studio          3382 non-null   object \n",
      " 2   domestic_gross  3359 non-null   float64\n",
      " 3   foreign_gross   2037 non-null   object \n",
      " 4   year            3387 non-null   int64  \n",
      "dtypes: float64(1), int64(1), object(3)\n",
      "memory usage: 132.4+ KB\n"
     ]
    }
   ],
   "source": [
    "bom_movie.info()"
   ]
  },
  {
   "cell_type": "markdown",
   "id": "0275950e-cc1d-4fb6-b672-0a30d7b9277a",
   "metadata": {},
   "source": [
    "# 5.2 DATA CLEANING"
   ]
  },
  {
   "cell_type": "markdown",
   "id": "d08cee11-aa32-49b9-9162-019bd614144b",
   "metadata": {},
   "source": [
    "Let's check for missing values in ` bom.movie_gross.csv ` and deal with them."
   ]
  },
  {
   "cell_type": "code",
   "execution_count": 5,
   "id": "47791bf6-9ac7-4f5d-b0d3-d23870f50a41",
   "metadata": {},
   "outputs": [
    {
     "data": {
      "text/plain": [
       "title                0\n",
       "studio               5\n",
       "domestic_gross      28\n",
       "foreign_gross     1350\n",
       "year                 0\n",
       "dtype: int64"
      ]
     },
     "execution_count": 5,
     "metadata": {},
     "output_type": "execute_result"
    }
   ],
   "source": [
    "bom_movie.isnull().sum()"
   ]
  },
  {
   "cell_type": "markdown",
   "id": "a98a52e0-0140-4186-83d9-f5897332a109",
   "metadata": {},
   "source": [
    "The dataset has 5 missing values on `studio` and 28 missing values on `domestic_gross` and finally 1350 missing values on `foreign_gross` for us to work with this dataset we need to clean and fill for those values where necessary."
   ]
  },
  {
   "cell_type": "code",
   "execution_count": 6,
   "id": "44946c40-816a-48dd-bc14-033d52ff6acd",
   "metadata": {},
   "outputs": [
    {
     "data": {
      "text/plain": [
       "studio\n",
       "IFC      166\n",
       "Uni.     147\n",
       "WB       140\n",
       "Fox      136\n",
       "Magn.    136\n",
       "Name: count, dtype: int64"
      ]
     },
     "execution_count": 6,
     "metadata": {},
     "output_type": "execute_result"
    }
   ],
   "source": [
    "bom_movie['studio'].value_counts().head()"
   ]
  },
  {
   "cell_type": "markdown",
   "id": "18c9a68e-a64f-4a7e-b539-f812b618e6a9",
   "metadata": {},
   "source": [
    "Let's delete the 5 missing values for the `studio` column and make sure the column has all the records in uppercase and get rid of all whitespaces to bring consistency to the column."
   ]
  },
  {
   "cell_type": "code",
   "execution_count": 7,
   "id": "e347c5bf-a5ee-49b1-8800-b50e05d27609",
   "metadata": {},
   "outputs": [],
   "source": [
    "# Convert to uppercase and remove all whitespace (including spaces, tabs)\n",
    "bom_movie['studio'] = bom_movie['studio'].str.upper().str.replace(r'\\s+', '', regex=True)\n"
   ]
  },
  {
   "cell_type": "code",
   "execution_count": 8,
   "id": "ab5cfc94-f04b-4f0a-9233-2efb656bf36b",
   "metadata": {},
   "outputs": [],
   "source": [
    "#delete null values\n",
    "bom_movie = bom_movie.dropna(subset=['studio'])\n"
   ]
  },
  {
   "cell_type": "markdown",
   "id": "c0db51be-7f06-4ece-a008-1fcba82e0a3a",
   "metadata": {},
   "source": [
    "The column  `foreign_gross` has a Dtype of object let's convert that to a float because it's numeric inputs and convert Invalid values to NAN."
   ]
  },
  {
   "cell_type": "code",
   "execution_count": 9,
   "id": "29414e19-8deb-40d3-8934-a75f0cea93ed",
   "metadata": {},
   "outputs": [],
   "source": [
    "# convert datatype to float\n",
    "bom_movie['foreign_gross'] = pd.to_numeric(bom_movie['foreign_gross'], errors='coerce')\n"
   ]
  },
  {
   "cell_type": "code",
   "execution_count": 10,
   "id": "807328ed-0cc5-49f5-8a9d-3503b38e2e95",
   "metadata": {},
   "outputs": [
    {
     "name": "stdout",
     "output_type": "stream",
     "text": [
      "This are the numeric columns Index(['domestic_gross', 'foreign_gross', 'year'], dtype='object')\n",
      "This are the the categorical columns Index(['title', 'studio'], dtype='object')\n"
     ]
    }
   ],
   "source": [
    "# Numeric columns\n",
    "numeric_cols = bom_movie.select_dtypes(include=['number']).columns\n",
    "\n",
    "# Categorical columns\n",
    "categorical_cols = bom_movie.select_dtypes(include=['object', 'category']).columns\n",
    "\n",
    "print(f\"This are the numeric columns {numeric_cols}\")\n",
    "print(f\"This are the the categorical columns {categorical_cols}\")\n"
   ]
  },
  {
   "cell_type": "code",
   "execution_count": 11,
   "id": "0c6c8f8c-9d59-48fe-81ad-00459120bb7b",
   "metadata": {},
   "outputs": [
    {
     "name": "stdout",
     "output_type": "stream",
     "text": [
      "       domestic_gross  foreign_gross    year\n",
      "count         3356.00        2028.00 3382.00\n",
      "mean      28771489.56    75139698.51 2013.96\n",
      "std       67006943.10   137633505.41    2.48\n",
      "min            100.00         600.00 2010.00\n",
      "25%         120000.00     3800000.00 2012.00\n",
      "50%        1400000.00    19000000.00 2014.00\n",
      "75%       27950000.00    75050000.00 2016.00\n",
      "max      936700000.00   960500000.00 2018.00\n"
     ]
    }
   ],
   "source": [
    "pd.set_option('display.float_format', '{:.2f}'.format) # to convert output to real numbers\n",
    "print(bom_movie.describe())"
   ]
  },
  {
   "cell_type": "code",
   "execution_count": 12,
   "id": "eb8923f7-6969-4c83-86b6-7fdffc7d8aca",
   "metadata": {},
   "outputs": [
    {
     "data": {
      "image/png": "[encoded data removed]",
      "text/plain": [
       "<Figure size 1000x600 with 1 Axes>"
      ]
     },
     "metadata": {},
     "output_type": "display_data"
    }
   ],
   "source": [
    "plt.figure(figsize=(10, 6))\n",
    "sns.boxplot(x=bom_movie['foreign_gross'], color='hotpink')\n",
    "plt.title('Boxplot of Foreign Gross Revenue')\n",
    "plt.xlabel('Foreign Gross (USD)')\n",
    "plt.grid(True)\n",
    "plt.show()"
   ]
  },
  {
   "cell_type": "code",
   "execution_count": 13,
   "id": "508e3a05-b0b2-4640-a36a-4b53a0de88eb",
   "metadata": {},
   "outputs": [
    {
     "data": {
      "image/png": "[encoded data removed]",
      "text/plain": [
       "<Figure size 1000x600 with 1 Axes>"
      ]
     },
     "metadata": {},
     "output_type": "display_data"
    }
   ],
   "source": [
    "plt.figure(figsize=(10, 6))\n",
    "sns.boxplot(x=bom_movie['domestic_gross'], color='royalblue')\n",
    "plt.title('Boxplot of Domestic Gross Revenue')\n",
    "plt.xlabel('Domestic Gross (USD)')\n",
    "plt.grid(True)\n",
    "plt.show()"
   ]
  },
  {
   "cell_type": "markdown",
   "id": "5d7314d8-cef1-47dd-aae8-2ae6cd23fd7f",
   "metadata": {},
   "source": [
    "We will use median to fill for the missing values in the `foriegn_gross`and `domestic_gross`.This is because in the `foriegn_gross` column which as you can see from the above **boxplot** has a very big range of outliers.\n",
    "\n",
    "Since the `domestic_gross` has a minumum value of 100 and maximum value of 936,700,000. We can't use the mean of 28,745,845 because mean it is highly senstive to extreme values which won't be the advisable to fill of the missing values.\n",
    "We therefore choose to use the median to fill for the missing values."
   ]
  },
  {
   "cell_type": "code",
   "execution_count": 14,
   "id": "979f215b-3457-4bdf-ada5-b48c5e5de8f0",
   "metadata": {},
   "outputs": [],
   "source": [
    "#fill for null values with median\n",
    "bom_movie['domestic_gross'] = bom_movie['domestic_gross'].fillna(bom_movie['domestic_gross'].median())"
   ]
  },
  {
   "cell_type": "code",
   "execution_count": 15,
   "id": "6d06215c-093c-438c-8a2a-e512acb8cdeb",
   "metadata": {},
   "outputs": [],
   "source": [
    "bom_movie['foreign_gross'] = bom_movie['foreign_gross'].fillna(bom_movie['foreign_gross'].median())"
   ]
  },
  {
   "cell_type": "code",
   "execution_count": 16,
   "id": "98cb9b44-4072-4e66-9b03-98a340c17e83",
   "metadata": {},
   "outputs": [
    {
     "data": {
      "text/plain": [
       "title             0\n",
       "studio            0\n",
       "domestic_gross    0\n",
       "foreign_gross     0\n",
       "year              0\n",
       "dtype: int64"
      ]
     },
     "execution_count": 16,
     "metadata": {},
     "output_type": "execute_result"
    }
   ],
   "source": [
    "#check if we have remaining null values\n",
    "bom_movie.isnull().sum()"
   ]
  },
  {
   "cell_type": "code",
   "execution_count": 17,
   "id": "247e318f-f4c4-4fdf-8b1e-91d155d1edaf",
   "metadata": {},
   "outputs": [
    {
     "data": {
      "text/plain": [
       "(3382, 5)"
      ]
     },
     "execution_count": 17,
     "metadata": {},
     "output_type": "execute_result"
    }
   ],
   "source": [
    "bom_movie.shape"
   ]
  },
  {
   "cell_type": "markdown",
   "id": "08048249-d97a-4d1e-bd63-e817fb378789",
   "metadata": {},
   "source": [
    "Save the cleaned dataframe so we can use it later own in our analysis."
   ]
  },
  {
   "cell_type": "code",
   "execution_count": 18,
   "id": "2d443f57-51bb-452b-b661-763facce4e48",
   "metadata": {},
   "outputs": [],
   "source": [
    "bom_movie.to_csv('cleanedbom_movie.csv', index=False)"
   ]
  },
  {
   "cell_type": "markdown",
   "id": "2067556d-a204-4383-bac2-6adeca27335d",
   "metadata": {},
   "source": [
    "## NB\n",
    "**We will apply the same procedure to the remaining datasets.**"
   ]
  },
  {
   "cell_type": "markdown",
   "id": "72b4ed4a-4243-40ea-bc72-4a5b9165a7f8",
   "metadata": {},
   "source": [
    "# * `tn.movie_budgets.csv` "
   ]
  },
  {
   "cell_type": "code",
   "execution_count": 19,
   "id": "1a27a3bf-a6b8-4658-82d6-fb4c0c77c853",
   "metadata": {},
   "outputs": [
    {
     "data": {
      "text/html": [
       "<div>\n",
       "<style scoped>\n",
       "    .dataframe tbody tr th:only-of-type {\n",
       "        vertical-align: middle;\n",
       "    }\n",
       "\n",
       "    .dataframe tbody tr th {\n",
       "        vertical-align: top;\n",
       "    }\n",
       "\n",
       "    .dataframe thead th {\n",
       "        text-align: right;\n",
       "    }\n",
       "</style>\n",
       "<table border=\"1\" class=\"dataframe\">\n",
       "  <thead>\n",
       "    <tr style=\"text-align: right;\">\n",
       "      <th></th>\n",
       "      <th>id</th>\n",
       "      <th>release_date</th>\n",
       "      <th>movie</th>\n",
       "      <th>production_budget</th>\n",
       "      <th>domestic_gross</th>\n",
       "      <th>worldwide_gross</th>\n",
       "    </tr>\n",
       "  </thead>\n",
       "  <tbody>\n",
       "    <tr>\n",
       "      <th>0</th>\n",
       "      <td>1</td>\n",
       "      <td>Dec 18, 2009</td>\n",
       "      <td>Avatar</td>\n",
       "      <td>$425,000,000</td>\n",
       "      <td>$760,507,625</td>\n",
       "      <td>$2,776,345,279</td>\n",
       "    </tr>\n",
       "    <tr>\n",
       "      <th>1</th>\n",
       "      <td>2</td>\n",
       "      <td>May 20, 2011</td>\n",
       "      <td>Pirates of the Caribbean: On Stranger Tides</td>\n",
       "      <td>$410,600,000</td>\n",
       "      <td>$241,063,875</td>\n",
       "      <td>$1,045,663,875</td>\n",
       "    </tr>\n",
       "    <tr>\n",
       "      <th>2</th>\n",
       "      <td>3</td>\n",
       "      <td>Jun 7, 2019</td>\n",
       "      <td>Dark Phoenix</td>\n",
       "      <td>$350,000,000</td>\n",
       "      <td>$42,762,350</td>\n",
       "      <td>$149,762,350</td>\n",
       "    </tr>\n",
       "    <tr>\n",
       "      <th>3</th>\n",
       "      <td>4</td>\n",
       "      <td>May 1, 2015</td>\n",
       "      <td>Avengers: Age of Ultron</td>\n",
       "      <td>$330,600,000</td>\n",
       "      <td>$459,005,868</td>\n",
       "      <td>$1,403,013,963</td>\n",
       "    </tr>\n",
       "    <tr>\n",
       "      <th>4</th>\n",
       "      <td>5</td>\n",
       "      <td>Dec 15, 2017</td>\n",
       "      <td>Star Wars Ep. VIII: The Last Jedi</td>\n",
       "      <td>$317,000,000</td>\n",
       "      <td>$620,181,382</td>\n",
       "      <td>$1,316,721,747</td>\n",
       "    </tr>\n",
       "  </tbody>\n",
       "</table>\n",
       "</div>"
      ],
      "text/plain": [
       "   id  release_date                                        movie  \\\n",
       "0   1  Dec 18, 2009                                       Avatar   \n",
       "1   2  May 20, 2011  Pirates of the Caribbean: On Stranger Tides   \n",
       "2   3   Jun 7, 2019                                 Dark Phoenix   \n",
       "3   4   May 1, 2015                      Avengers: Age of Ultron   \n",
       "4   5  Dec 15, 2017            Star Wars Ep. VIII: The Last Jedi   \n",
       "\n",
       "  production_budget domestic_gross worldwide_gross  \n",
       "0      $425,000,000   $760,507,625  $2,776,345,279  \n",
       "1      $410,600,000   $241,063,875  $1,045,663,875  \n",
       "2      $350,000,000    $42,762,350    $149,762,350  \n",
       "3      $330,600,000   $459,005,868  $1,403,013,963  \n",
       "4      $317,000,000   $620,181,382  $1,316,721,747  "
      ]
     },
     "execution_count": 19,
     "metadata": {},
     "output_type": "execute_result"
    }
   ],
   "source": [
    "movie_budget = pd.read_csv(\"tn.movie_budgets.csv\")\n",
    "movie_budget.head()"
   ]
  },
  {
   "cell_type": "code",
   "execution_count": 20,
   "id": "b9ad3333-153e-4ad4-8fa3-e250d9284bcf",
   "metadata": {},
   "outputs": [
    {
     "name": "stdout",
     "output_type": "stream",
     "text": [
      "<class 'pandas.core.frame.DataFrame'>\n",
      "RangeIndex: 5782 entries, 0 to 5781\n",
      "Data columns (total 6 columns):\n",
      " #   Column             Non-Null Count  Dtype \n",
      "---  ------             --------------  ----- \n",
      " 0   id                 5782 non-null   int64 \n",
      " 1   release_date       5782 non-null   object\n",
      " 2   movie              5782 non-null   object\n",
      " 3   production_budget  5782 non-null   object\n",
      " 4   domestic_gross     5782 non-null   object\n",
      " 5   worldwide_gross    5782 non-null   object\n",
      "dtypes: int64(1), object(5)\n",
      "memory usage: 271.2+ KB\n"
     ]
    }
   ],
   "source": [
    "movie_budget.info()"
   ]
  },
  {
   "cell_type": "code",
   "execution_count": 21,
   "id": "cc545c57-a473-4abc-9123-ffcd5736fd11",
   "metadata": {},
   "outputs": [
    {
     "data": {
      "text/plain": [
       "id                   0\n",
       "release_date         0\n",
       "movie                0\n",
       "production_budget    0\n",
       "domestic_gross       0\n",
       "worldwide_gross      0\n",
       "dtype: int64"
      ]
     },
     "execution_count": 21,
     "metadata": {},
     "output_type": "execute_result"
    }
   ],
   "source": [
    "movie_budget.isnull().sum()"
   ]
  },
  {
   "cell_type": "markdown",
   "id": "d5b43442-cc5f-497d-b270-70e63f0662cd",
   "metadata": {},
   "source": [
    "This dataset does not contain any missing values,so let's check for duplicates and convert to appropriate data types."
   ]
  },
  {
   "cell_type": "code",
   "execution_count": 22,
   "id": "fc1df976-0219-4803-b07a-ebe6a7b9a5f2",
   "metadata": {},
   "outputs": [
    {
     "data": {
      "text/plain": [
       "0"
      ]
     },
     "execution_count": 22,
     "metadata": {},
     "output_type": "execute_result"
    }
   ],
   "source": [
    "movie_budget.duplicated().sum()"
   ]
  },
  {
   "cell_type": "markdown",
   "id": "45d8e62a-d170-45ac-88e4-6241fbbf04ac",
   "metadata": {},
   "source": [
    "`production_budget`,`domestic_gross` and `worldwide_gross` are numeric values but have a datatype object let's convert it to float so we can easily work with it.\n"
   ]
  },
  {
   "cell_type": "code",
   "execution_count": 23,
   "id": "7ab9e741-5f64-49a0-b644-956ce868632d",
   "metadata": {},
   "outputs": [],
   "source": [
    "#list of columns that need cleaning\n",
    "cols_to_convert = ['production_budget','domestic_gross','worldwide_gross']\n",
    "# get rid of the $ and , and change data type to float\n",
    "for col in cols_to_convert:\n",
    "    movie_budget[col] = movie_budget[col].replace(r'[\\$,]', '', regex=True).astype(float)"
   ]
  },
  {
   "cell_type": "code",
   "execution_count": 24,
   "id": "c3580ea3-ce2a-4445-89d0-f85c2082db14",
   "metadata": {},
   "outputs": [
    {
     "data": {
      "text/html": [
       "<div>\n",
       "<style scoped>\n",
       "    .dataframe tbody tr th:only-of-type {\n",
       "        vertical-align: middle;\n",
       "    }\n",
       "\n",
       "    .dataframe tbody tr th {\n",
       "        vertical-align: top;\n",
       "    }\n",
       "\n",
       "    .dataframe thead th {\n",
       "        text-align: right;\n",
       "    }\n",
       "</style>\n",
       "<table border=\"1\" class=\"dataframe\">\n",
       "  <thead>\n",
       "    <tr style=\"text-align: right;\">\n",
       "      <th></th>\n",
       "      <th>id</th>\n",
       "      <th>production_budget</th>\n",
       "      <th>domestic_gross</th>\n",
       "      <th>worldwide_gross</th>\n",
       "    </tr>\n",
       "  </thead>\n",
       "  <tbody>\n",
       "    <tr>\n",
       "      <th>count</th>\n",
       "      <td>5782.00</td>\n",
       "      <td>5782.00</td>\n",
       "      <td>5782.00</td>\n",
       "      <td>5782.00</td>\n",
       "    </tr>\n",
       "    <tr>\n",
       "      <th>mean</th>\n",
       "      <td>50.37</td>\n",
       "      <td>31587757.10</td>\n",
       "      <td>41873326.87</td>\n",
       "      <td>91487460.91</td>\n",
       "    </tr>\n",
       "    <tr>\n",
       "      <th>std</th>\n",
       "      <td>28.82</td>\n",
       "      <td>41812076.83</td>\n",
       "      <td>68240597.36</td>\n",
       "      <td>174719968.78</td>\n",
       "    </tr>\n",
       "    <tr>\n",
       "      <th>min</th>\n",
       "      <td>1.00</td>\n",
       "      <td>1100.00</td>\n",
       "      <td>0.00</td>\n",
       "      <td>0.00</td>\n",
       "    </tr>\n",
       "    <tr>\n",
       "      <th>25%</th>\n",
       "      <td>25.00</td>\n",
       "      <td>5000000.00</td>\n",
       "      <td>1429534.50</td>\n",
       "      <td>4125414.75</td>\n",
       "    </tr>\n",
       "    <tr>\n",
       "      <th>50%</th>\n",
       "      <td>50.00</td>\n",
       "      <td>17000000.00</td>\n",
       "      <td>17225945.00</td>\n",
       "      <td>27984448.50</td>\n",
       "    </tr>\n",
       "    <tr>\n",
       "      <th>75%</th>\n",
       "      <td>75.00</td>\n",
       "      <td>40000000.00</td>\n",
       "      <td>52348661.50</td>\n",
       "      <td>97645836.50</td>\n",
       "    </tr>\n",
       "    <tr>\n",
       "      <th>max</th>\n",
       "      <td>100.00</td>\n",
       "      <td>425000000.00</td>\n",
       "      <td>936662225.00</td>\n",
       "      <td>2776345279.00</td>\n",
       "    </tr>\n",
       "  </tbody>\n",
       "</table>\n",
       "</div>"
      ],
      "text/plain": [
       "           id  production_budget  domestic_gross  worldwide_gross\n",
       "count 5782.00            5782.00         5782.00          5782.00\n",
       "mean    50.37        31587757.10     41873326.87      91487460.91\n",
       "std     28.82        41812076.83     68240597.36     174719968.78\n",
       "min      1.00            1100.00            0.00             0.00\n",
       "25%     25.00         5000000.00      1429534.50       4125414.75\n",
       "50%     50.00        17000000.00     17225945.00      27984448.50\n",
       "75%     75.00        40000000.00     52348661.50      97645836.50\n",
       "max    100.00       425000000.00    936662225.00    2776345279.00"
      ]
     },
     "execution_count": 24,
     "metadata": {},
     "output_type": "execute_result"
    }
   ],
   "source": [
    "pd.set_option('display.float_format', '{:.2f}'.format)\n",
    "movie_budget.describe()"
   ]
  },
  {
   "cell_type": "code",
   "execution_count": 25,
   "id": "55f8b3a0-e4a9-4c37-afc7-47733d2fb6d8",
   "metadata": {},
   "outputs": [
    {
     "data": {
      "text/plain": [
       "(5782, 6)"
      ]
     },
     "execution_count": 25,
     "metadata": {},
     "output_type": "execute_result"
    }
   ],
   "source": [
    "movie_budget.shape"
   ]
  },
  {
   "cell_type": "code",
   "execution_count": 26,
   "id": "af0ba423-bf9e-4756-bdac-bb36c7652ed2",
   "metadata": {},
   "outputs": [],
   "source": [
    "movie_budget.to_csv('cleanedmovie_budget.csv', index=False)"
   ]
  },
  {
   "cell_type": "markdown",
   "id": "4e288c68-680c-4db0-babc-c3cf364777f6",
   "metadata": {},
   "source": [
    "# * `rt.movie_info.tsv`"
   ]
  },
  {
   "cell_type": "code",
   "execution_count": 27,
   "id": "9b80df7a-00b5-4820-8452-56375fa8514a",
   "metadata": {},
   "outputs": [
    {
     "data": {
      "text/html": [
       "<div>\n",
       "<style scoped>\n",
       "    .dataframe tbody tr th:only-of-type {\n",
       "        vertical-align: middle;\n",
       "    }\n",
       "\n",
       "    .dataframe tbody tr th {\n",
       "        vertical-align: top;\n",
       "    }\n",
       "\n",
       "    .dataframe thead th {\n",
       "        text-align: right;\n",
       "    }\n",
       "</style>\n",
       "<table border=\"1\" class=\"dataframe\">\n",
       "  <thead>\n",
       "    <tr style=\"text-align: right;\">\n",
       "      <th></th>\n",
       "      <th>id</th>\n",
       "      <th>synopsis</th>\n",
       "      <th>rating</th>\n",
       "      <th>genre</th>\n",
       "      <th>director</th>\n",
       "      <th>writer</th>\n",
       "      <th>theater_date</th>\n",
       "      <th>dvd_date</th>\n",
       "      <th>currency</th>\n",
       "      <th>box_office</th>\n",
       "      <th>runtime</th>\n",
       "      <th>studio</th>\n",
       "    </tr>\n",
       "  </thead>\n",
       "  <tbody>\n",
       "    <tr>\n",
       "      <th>0</th>\n",
       "      <td>1</td>\n",
       "      <td>This gritty, fast-paced, and innovative police...</td>\n",
       "      <td>R</td>\n",
       "      <td>Action and Adventure|Classics|Drama</td>\n",
       "      <td>William Friedkin</td>\n",
       "      <td>Ernest Tidyman</td>\n",
       "      <td>Oct 9, 1971</td>\n",
       "      <td>Sep 25, 2001</td>\n",
       "      <td>NaN</td>\n",
       "      <td>NaN</td>\n",
       "      <td>104 minutes</td>\n",
       "      <td>NaN</td>\n",
       "    </tr>\n",
       "    <tr>\n",
       "      <th>1</th>\n",
       "      <td>3</td>\n",
       "      <td>New York City, not-too-distant-future: Eric Pa...</td>\n",
       "      <td>R</td>\n",
       "      <td>Drama|Science Fiction and Fantasy</td>\n",
       "      <td>David Cronenberg</td>\n",
       "      <td>David Cronenberg|Don DeLillo</td>\n",
       "      <td>Aug 17, 2012</td>\n",
       "      <td>Jan 1, 2013</td>\n",
       "      <td>$</td>\n",
       "      <td>600,000</td>\n",
       "      <td>108 minutes</td>\n",
       "      <td>Entertainment One</td>\n",
       "    </tr>\n",
       "    <tr>\n",
       "      <th>2</th>\n",
       "      <td>5</td>\n",
       "      <td>Illeana Douglas delivers a superb performance ...</td>\n",
       "      <td>R</td>\n",
       "      <td>Drama|Musical and Performing Arts</td>\n",
       "      <td>Allison Anders</td>\n",
       "      <td>Allison Anders</td>\n",
       "      <td>Sep 13, 1996</td>\n",
       "      <td>Apr 18, 2000</td>\n",
       "      <td>NaN</td>\n",
       "      <td>NaN</td>\n",
       "      <td>116 minutes</td>\n",
       "      <td>NaN</td>\n",
       "    </tr>\n",
       "    <tr>\n",
       "      <th>3</th>\n",
       "      <td>6</td>\n",
       "      <td>Michael Douglas runs afoul of a treacherous su...</td>\n",
       "      <td>R</td>\n",
       "      <td>Drama|Mystery and Suspense</td>\n",
       "      <td>Barry Levinson</td>\n",
       "      <td>Paul Attanasio|Michael Crichton</td>\n",
       "      <td>Dec 9, 1994</td>\n",
       "      <td>Aug 27, 1997</td>\n",
       "      <td>NaN</td>\n",
       "      <td>NaN</td>\n",
       "      <td>128 minutes</td>\n",
       "      <td>NaN</td>\n",
       "    </tr>\n",
       "    <tr>\n",
       "      <th>4</th>\n",
       "      <td>7</td>\n",
       "      <td>NaN</td>\n",
       "      <td>NR</td>\n",
       "      <td>Drama|Romance</td>\n",
       "      <td>Rodney Bennett</td>\n",
       "      <td>Giles Cooper</td>\n",
       "      <td>NaN</td>\n",
       "      <td>NaN</td>\n",
       "      <td>NaN</td>\n",
       "      <td>NaN</td>\n",
       "      <td>200 minutes</td>\n",
       "      <td>NaN</td>\n",
       "    </tr>\n",
       "  </tbody>\n",
       "</table>\n",
       "</div>"
      ],
      "text/plain": [
       "   id                                           synopsis rating  \\\n",
       "0   1  This gritty, fast-paced, and innovative police...      R   \n",
       "1   3  New York City, not-too-distant-future: Eric Pa...      R   \n",
       "2   5  Illeana Douglas delivers a superb performance ...      R   \n",
       "3   6  Michael Douglas runs afoul of a treacherous su...      R   \n",
       "4   7                                                NaN     NR   \n",
       "\n",
       "                                 genre          director  \\\n",
       "0  Action and Adventure|Classics|Drama  William Friedkin   \n",
       "1    Drama|Science Fiction and Fantasy  David Cronenberg   \n",
       "2    Drama|Musical and Performing Arts    Allison Anders   \n",
       "3           Drama|Mystery and Suspense    Barry Levinson   \n",
       "4                        Drama|Romance    Rodney Bennett   \n",
       "\n",
       "                            writer  theater_date      dvd_date currency  \\\n",
       "0                   Ernest Tidyman   Oct 9, 1971  Sep 25, 2001      NaN   \n",
       "1     David Cronenberg|Don DeLillo  Aug 17, 2012   Jan 1, 2013        $   \n",
       "2                   Allison Anders  Sep 13, 1996  Apr 18, 2000      NaN   \n",
       "3  Paul Attanasio|Michael Crichton   Dec 9, 1994  Aug 27, 1997      NaN   \n",
       "4                     Giles Cooper           NaN           NaN      NaN   \n",
       "\n",
       "  box_office      runtime             studio  \n",
       "0        NaN  104 minutes                NaN  \n",
       "1    600,000  108 minutes  Entertainment One  \n",
       "2        NaN  116 minutes                NaN  \n",
       "3        NaN  128 minutes                NaN  \n",
       "4        NaN  200 minutes                NaN  "
      ]
     },
     "execution_count": 27,
     "metadata": {},
     "output_type": "execute_result"
    }
   ],
   "source": [
    "movie_info = pd.read_csv(\"rt.movie_info.tsv\", sep='\\t')\n",
    "movie_info.head()"
   ]
  },
  {
   "cell_type": "markdown",
   "id": "2733c48e-b767-4188-9c96-0bf550712cfb",
   "metadata": {},
   "source": [
    "This dataset has a number of columns that we won't be used in our analysis so it's safe to drop those columns we consider 'irrelevant'."
   ]
  },
  {
   "cell_type": "code",
   "execution_count": 28,
   "id": "2767db1d-5502-45c8-8189-a052d9439e72",
   "metadata": {},
   "outputs": [
    {
     "data": {
      "text/plain": [
       "Index(['id', 'synopsis', 'rating', 'genre', 'director', 'writer',\n",
       "       'theater_date', 'dvd_date', 'currency', 'box_office', 'runtime',\n",
       "       'studio'],\n",
       "      dtype='object')"
      ]
     },
     "execution_count": 28,
     "metadata": {},
     "output_type": "execute_result"
    }
   ],
   "source": [
    "movie_info.columns"
   ]
  },
  {
   "cell_type": "code",
   "execution_count": 29,
   "id": "a4d4e2f1-1237-427a-9d68-695b776b83a5",
   "metadata": {},
   "outputs": [],
   "source": [
    "movie_info = movie_info.drop(['synopsis', 'director','writer','theater_date','dvd_date','currency', 'box_office'], axis=1)\n"
   ]
  },
  {
   "cell_type": "code",
   "execution_count": 30,
   "id": "0f394823-8486-4a92-a133-126f4904e0a2",
   "metadata": {},
   "outputs": [
    {
     "data": {
      "text/plain": [
       "id            0\n",
       "rating        3\n",
       "genre         8\n",
       "runtime      30\n",
       "studio     1066\n",
       "dtype: int64"
      ]
     },
     "execution_count": 30,
     "metadata": {},
     "output_type": "execute_result"
    }
   ],
   "source": [
    "movie_info.isnull().sum()"
   ]
  },
  {
   "cell_type": "markdown",
   "id": "aef93696-59b8-4d0a-801c-8be13bf8255d",
   "metadata": {},
   "source": [
    "Let's fill for missing values."
   ]
  },
  {
   "cell_type": "code",
   "execution_count": 31,
   "id": "a81068ba-7003-4ff2-b4d1-ef31c29961b9",
   "metadata": {},
   "outputs": [],
   "source": [
    "# fill missing values of rating with NR\n",
    "movie_info['rating'] = movie_info['rating'].fillna('NR')"
   ]
  },
  {
   "cell_type": "code",
   "execution_count": 32,
   "id": "ed4e36fe-e05e-457d-b5bc-f7864b65f367",
   "metadata": {},
   "outputs": [],
   "source": [
    "movie_info['genre'] = movie_info['genre'].fillna('UNKOWN')"
   ]
  },
  {
   "cell_type": "code",
   "execution_count": 33,
   "id": "11380eb6-183b-4d08-9269-d59ba271143d",
   "metadata": {},
   "outputs": [],
   "source": [
    " # extract numeric part.astype(float)               # convert to float (allows NaN)\n",
    "movie_info['runtime'] = (movie_info['runtime'].str.extract(r'(\\d+)').astype(float))      "
   ]
  },
  {
   "cell_type": "code",
   "execution_count": 34,
   "id": "c6d6b3dd-a32a-4a5f-92b8-1774c176dd4a",
   "metadata": {},
   "outputs": [
    {
     "data": {
      "text/plain": [
       "0   90.00\n",
       "Name: runtime, dtype: float64"
      ]
     },
     "execution_count": 34,
     "metadata": {},
     "output_type": "execute_result"
    }
   ],
   "source": [
    "#get the mode of runtime\n",
    "movie_info['runtime'].mode()"
   ]
  },
  {
   "cell_type": "code",
   "execution_count": 35,
   "id": "59b23ad9-f0c7-4323-bc30-31235396517e",
   "metadata": {},
   "outputs": [],
   "source": [
    "movie_info['runtime'] = movie_info['runtime'].fillna('90.0')"
   ]
  },
  {
   "cell_type": "markdown",
   "id": "4a09eb58-d0f1-4e9e-b0af-fb9333746171",
   "metadata": {},
   "source": [
    "we'll have to drop the studio because it's missing almost 90% of the data"
   ]
  },
  {
   "cell_type": "code",
   "execution_count": 36,
   "id": "0c25fcb0-5fe0-4010-be46-2ce7cf420c89",
   "metadata": {},
   "outputs": [],
   "source": [
    "movie_info.drop('studio',axis=1, inplace=True)"
   ]
  },
  {
   "cell_type": "code",
   "execution_count": 37,
   "id": "5e956ef9-33f4-4425-92d1-89bd12799a8a",
   "metadata": {},
   "outputs": [
    {
     "data": {
      "text/plain": [
       "id         0\n",
       "rating     0\n",
       "genre      0\n",
       "runtime    0\n",
       "dtype: int64"
      ]
     },
     "execution_count": 37,
     "metadata": {},
     "output_type": "execute_result"
    }
   ],
   "source": [
    "movie_info.isnull().sum()"
   ]
  },
  {
   "cell_type": "code",
   "execution_count": 38,
   "id": "c1b8cba8-e869-4257-8785-93ef817b8d46",
   "metadata": {},
   "outputs": [
    {
     "data": {
      "text/plain": [
       "(1560, 4)"
      ]
     },
     "execution_count": 38,
     "metadata": {},
     "output_type": "execute_result"
    }
   ],
   "source": [
    "movie_info.shape"
   ]
  },
  {
   "cell_type": "code",
   "execution_count": 39,
   "id": "f3a3e104-9d22-47bb-b5d5-ae33a268fbdf",
   "metadata": {},
   "outputs": [
    {
     "data": {
      "text/html": [
       "<div>\n",
       "<style scoped>\n",
       "    .dataframe tbody tr th:only-of-type {\n",
       "        vertical-align: middle;\n",
       "    }\n",
       "\n",
       "    .dataframe tbody tr th {\n",
       "        vertical-align: top;\n",
       "    }\n",
       "\n",
       "    .dataframe thead th {\n",
       "        text-align: right;\n",
       "    }\n",
       "</style>\n",
       "<table border=\"1\" class=\"dataframe\">\n",
       "  <thead>\n",
       "    <tr style=\"text-align: right;\">\n",
       "      <th></th>\n",
       "      <th>id</th>\n",
       "      <th>rating</th>\n",
       "      <th>genre</th>\n",
       "      <th>runtime</th>\n",
       "    </tr>\n",
       "  </thead>\n",
       "  <tbody>\n",
       "    <tr>\n",
       "      <th>1555</th>\n",
       "      <td>1996</td>\n",
       "      <td>R</td>\n",
       "      <td>Action and Adventure|Horror|Mystery and Suspense</td>\n",
       "      <td>106.00</td>\n",
       "    </tr>\n",
       "    <tr>\n",
       "      <th>1556</th>\n",
       "      <td>1997</td>\n",
       "      <td>PG</td>\n",
       "      <td>Comedy|Science Fiction and Fantasy</td>\n",
       "      <td>88.00</td>\n",
       "    </tr>\n",
       "    <tr>\n",
       "      <th>1557</th>\n",
       "      <td>1998</td>\n",
       "      <td>G</td>\n",
       "      <td>Classics|Comedy|Drama|Musical and Performing Arts</td>\n",
       "      <td>111.00</td>\n",
       "    </tr>\n",
       "    <tr>\n",
       "      <th>1558</th>\n",
       "      <td>1999</td>\n",
       "      <td>PG</td>\n",
       "      <td>Comedy|Drama|Kids and Family|Sports and Fitness</td>\n",
       "      <td>101.00</td>\n",
       "    </tr>\n",
       "    <tr>\n",
       "      <th>1559</th>\n",
       "      <td>2000</td>\n",
       "      <td>R</td>\n",
       "      <td>Action and Adventure|Art House and Internation...</td>\n",
       "      <td>94.00</td>\n",
       "    </tr>\n",
       "  </tbody>\n",
       "</table>\n",
       "</div>"
      ],
      "text/plain": [
       "        id rating                                              genre runtime\n",
       "1555  1996      R   Action and Adventure|Horror|Mystery and Suspense  106.00\n",
       "1556  1997     PG                 Comedy|Science Fiction and Fantasy   88.00\n",
       "1557  1998      G  Classics|Comedy|Drama|Musical and Performing Arts  111.00\n",
       "1558  1999     PG    Comedy|Drama|Kids and Family|Sports and Fitness  101.00\n",
       "1559  2000      R  Action and Adventure|Art House and Internation...   94.00"
      ]
     },
     "execution_count": 39,
     "metadata": {},
     "output_type": "execute_result"
    }
   ],
   "source": [
    "movie_info.tail()"
   ]
  },
  {
   "cell_type": "code",
   "execution_count": 40,
   "id": "98860815-5520-4d7b-93a4-c25bf416e861",
   "metadata": {},
   "outputs": [],
   "source": [
    "movie_info.to_csv('cleanedmovie_info.csv', index=False)"
   ]
  },
  {
   "cell_type": "markdown",
   "id": "6b54ca6c-e278-45b2-981b-43aca6a7d95f",
   "metadata": {},
   "source": [
    "# *`rt.reviwes.tsv`"
   ]
  },
  {
   "cell_type": "code",
   "execution_count": 41,
   "id": "d0672a42-8733-4cbf-ab84-df7e1bcad4ad",
   "metadata": {},
   "outputs": [
    {
     "data": {
      "text/html": [
       "<div>\n",
       "<style scoped>\n",
       "    .dataframe tbody tr th:only-of-type {\n",
       "        vertical-align: middle;\n",
       "    }\n",
       "\n",
       "    .dataframe tbody tr th {\n",
       "        vertical-align: top;\n",
       "    }\n",
       "\n",
       "    .dataframe thead th {\n",
       "        text-align: right;\n",
       "    }\n",
       "</style>\n",
       "<table border=\"1\" class=\"dataframe\">\n",
       "  <thead>\n",
       "    <tr style=\"text-align: right;\">\n",
       "      <th></th>\n",
       "      <th>id</th>\n",
       "      <th>review</th>\n",
       "      <th>rating</th>\n",
       "      <th>fresh</th>\n",
       "      <th>critic</th>\n",
       "      <th>top_critic</th>\n",
       "      <th>publisher</th>\n",
       "      <th>date</th>\n",
       "    </tr>\n",
       "  </thead>\n",
       "  <tbody>\n",
       "    <tr>\n",
       "      <th>54425</th>\n",
       "      <td>2000</td>\n",
       "      <td>Despite Besson's high-profile name being Wasab...</td>\n",
       "      <td>NaN</td>\n",
       "      <td>fresh</td>\n",
       "      <td>Andy Klein</td>\n",
       "      <td>0</td>\n",
       "      <td>New Times</td>\n",
       "      <td>September 26, 2002</td>\n",
       "    </tr>\n",
       "    <tr>\n",
       "      <th>54426</th>\n",
       "      <td>2000</td>\n",
       "      <td>The film lapses too often into sugary sentimen...</td>\n",
       "      <td>NaN</td>\n",
       "      <td>rotten</td>\n",
       "      <td>Paul Malcolm</td>\n",
       "      <td>1</td>\n",
       "      <td>L.A. Weekly</td>\n",
       "      <td>September 26, 2002</td>\n",
       "    </tr>\n",
       "    <tr>\n",
       "      <th>54427</th>\n",
       "      <td>2000</td>\n",
       "      <td>The real charm of this trifle is the deadpan c...</td>\n",
       "      <td>NaN</td>\n",
       "      <td>fresh</td>\n",
       "      <td>Laura Sinagra</td>\n",
       "      <td>1</td>\n",
       "      <td>Village Voice</td>\n",
       "      <td>September 24, 2002</td>\n",
       "    </tr>\n",
       "    <tr>\n",
       "      <th>54428</th>\n",
       "      <td>2000</td>\n",
       "      <td>NaN</td>\n",
       "      <td>1/5</td>\n",
       "      <td>rotten</td>\n",
       "      <td>Michael Szymanski</td>\n",
       "      <td>0</td>\n",
       "      <td>Zap2it.com</td>\n",
       "      <td>September 21, 2005</td>\n",
       "    </tr>\n",
       "    <tr>\n",
       "      <th>54429</th>\n",
       "      <td>2000</td>\n",
       "      <td>NaN</td>\n",
       "      <td>2/5</td>\n",
       "      <td>rotten</td>\n",
       "      <td>Emanuel Levy</td>\n",
       "      <td>0</td>\n",
       "      <td>EmanuelLevy.Com</td>\n",
       "      <td>July 17, 2005</td>\n",
       "    </tr>\n",
       "    <tr>\n",
       "      <th>54430</th>\n",
       "      <td>2000</td>\n",
       "      <td>NaN</td>\n",
       "      <td>2.5/5</td>\n",
       "      <td>rotten</td>\n",
       "      <td>Christopher Null</td>\n",
       "      <td>0</td>\n",
       "      <td>Filmcritic.com</td>\n",
       "      <td>September 7, 2003</td>\n",
       "    </tr>\n",
       "    <tr>\n",
       "      <th>54431</th>\n",
       "      <td>2000</td>\n",
       "      <td>NaN</td>\n",
       "      <td>3/5</td>\n",
       "      <td>fresh</td>\n",
       "      <td>Nicolas Lacroix</td>\n",
       "      <td>0</td>\n",
       "      <td>Showbizz.net</td>\n",
       "      <td>November 12, 2002</td>\n",
       "    </tr>\n",
       "  </tbody>\n",
       "</table>\n",
       "</div>"
      ],
      "text/plain": [
       "         id                                             review rating   fresh  \\\n",
       "54425  2000  Despite Besson's high-profile name being Wasab...    NaN   fresh   \n",
       "54426  2000  The film lapses too often into sugary sentimen...    NaN  rotten   \n",
       "54427  2000  The real charm of this trifle is the deadpan c...    NaN   fresh   \n",
       "54428  2000                                                NaN    1/5  rotten   \n",
       "54429  2000                                                NaN    2/5  rotten   \n",
       "54430  2000                                                NaN  2.5/5  rotten   \n",
       "54431  2000                                                NaN    3/5   fresh   \n",
       "\n",
       "                  critic  top_critic        publisher                date  \n",
       "54425         Andy Klein           0        New Times  September 26, 2002  \n",
       "54426       Paul Malcolm           1      L.A. Weekly  September 26, 2002  \n",
       "54427      Laura Sinagra           1    Village Voice  September 24, 2002  \n",
       "54428  Michael Szymanski           0       Zap2it.com  September 21, 2005  \n",
       "54429       Emanuel Levy           0  EmanuelLevy.Com       July 17, 2005  \n",
       "54430   Christopher Null           0   Filmcritic.com   September 7, 2003  \n",
       "54431    Nicolas Lacroix           0     Showbizz.net   November 12, 2002  "
      ]
     },
     "execution_count": 41,
     "metadata": {},
     "output_type": "execute_result"
    }
   ],
   "source": [
    "movie_reviews =pd.read_csv(\"rt.reviews.tsv\",sep ='\\t',encoding =\"Latin1\")\n",
    "movie_reviews.tail(7)"
   ]
  },
  {
   "cell_type": "code",
   "execution_count": 42,
   "id": "56ca8eec-49b5-4624-9cdb-6aee34c825b3",
   "metadata": {},
   "outputs": [
    {
     "data": {
      "text/plain": [
       "Index(['id', 'review', 'rating', 'fresh', 'critic', 'top_critic', 'publisher',\n",
       "       'date'],\n",
       "      dtype='object')"
      ]
     },
     "execution_count": 42,
     "metadata": {},
     "output_type": "execute_result"
    }
   ],
   "source": [
    "movie_reviews.columns"
   ]
  },
  {
   "cell_type": "code",
   "execution_count": 43,
   "id": "9358f838-7e8b-4527-8f4e-a9a6ea57815a",
   "metadata": {},
   "outputs": [
    {
     "data": {
      "text/plain": [
       "id                0\n",
       "review         5563\n",
       "rating        13517\n",
       "fresh             0\n",
       "critic         2722\n",
       "top_critic        0\n",
       "publisher       309\n",
       "date              0\n",
       "dtype: int64"
      ]
     },
     "execution_count": 43,
     "metadata": {},
     "output_type": "execute_result"
    }
   ],
   "source": [
    "movie_reviews.isnull().sum()"
   ]
  },
  {
   "cell_type": "code",
   "execution_count": 44,
   "id": "cd51cb36-6e65-418e-aed3-08a3519dc30c",
   "metadata": {},
   "outputs": [],
   "source": [
    "#drop listed columns\n",
    "movie_reviews = movie_reviews.drop(['review','rating', 'critic','publisher'], axis=1)"
   ]
  },
  {
   "cell_type": "code",
   "execution_count": 45,
   "id": "c9f55896-18a4-425d-83a2-43fd033fd7f5",
   "metadata": {},
   "outputs": [
    {
     "data": {
      "text/plain": [
       "(54432, 4)"
      ]
     },
     "execution_count": 45,
     "metadata": {},
     "output_type": "execute_result"
    }
   ],
   "source": [
    "movie_reviews.shape"
   ]
  },
  {
   "cell_type": "code",
   "execution_count": 46,
   "id": "bfdcfd85-34a3-41ca-880b-dc156449f69e",
   "metadata": {},
   "outputs": [],
   "source": [
    "movie_reviews.to_csv('cleanedmovie_reviews.csv', index=False)"
   ]
  },
  {
   "cell_type": "markdown",
   "id": "f79bf912-2bb3-4960-8d5f-867b92ad43c8",
   "metadata": {},
   "source": [
    "# 5.3 MERGING DATASETS"
   ]
  },
  {
   "cell_type": "markdown",
   "id": "7af711ea-01dd-4a57-8ecb-71db436a34b7",
   "metadata": {},
   "source": [
    "In the merging of datasets we will also do the following processes.\n",
    "* Data cleaning\n",
    "* Feature engineering"
   ]
  },
  {
   "cell_type": "markdown",
   "id": "15eef9d5-17fa-4688-9f3b-e57a099b2fc5",
   "metadata": {},
   "source": [
    "# 5.3.1 Merging dataset 1"
   ]
  },
  {
   "cell_type": "markdown",
   "id": "28175aa0-68df-437d-a41f-407453c22e2d",
   "metadata": {},
   "source": [
    "Let's begin by merging the `cleanedmovie_info.csv` with the `cleanedmovie_reviews` **with a inner join** on the column `id`."
   ]
  },
  {
   "cell_type": "code",
   "execution_count": 47,
   "id": "728c6b6f-6962-4939-b12c-ae29dc467f4a",
   "metadata": {},
   "outputs": [],
   "source": [
    "movie_info = pd.read_csv('cleanedmovie_info.csv')\n",
    "movie_reviews= pd.read_csv('cleanedmovie_reviews.csv')\n",
    "info_reviews = pd.merge(movie_info, movie_reviews, on='id', how='inner')\n"
   ]
  },
  {
   "cell_type": "code",
   "execution_count": 48,
   "id": "b30d5ec9-30ae-48a3-80ea-5085195a78b1",
   "metadata": {},
   "outputs": [
    {
     "data": {
      "text/html": [
       "<div>\n",
       "<style scoped>\n",
       "    .dataframe tbody tr th:only-of-type {\n",
       "        vertical-align: middle;\n",
       "    }\n",
       "\n",
       "    .dataframe tbody tr th {\n",
       "        vertical-align: top;\n",
       "    }\n",
       "\n",
       "    .dataframe thead th {\n",
       "        text-align: right;\n",
       "    }\n",
       "</style>\n",
       "<table border=\"1\" class=\"dataframe\">\n",
       "  <thead>\n",
       "    <tr style=\"text-align: right;\">\n",
       "      <th></th>\n",
       "      <th>id</th>\n",
       "      <th>rating</th>\n",
       "      <th>genre</th>\n",
       "      <th>runtime</th>\n",
       "      <th>fresh</th>\n",
       "      <th>top_critic</th>\n",
       "      <th>date</th>\n",
       "    </tr>\n",
       "  </thead>\n",
       "  <tbody>\n",
       "    <tr>\n",
       "      <th>0</th>\n",
       "      <td>3</td>\n",
       "      <td>R</td>\n",
       "      <td>Drama|Science Fiction and Fantasy</td>\n",
       "      <td>108.00</td>\n",
       "      <td>fresh</td>\n",
       "      <td>0</td>\n",
       "      <td>November 10, 2018</td>\n",
       "    </tr>\n",
       "    <tr>\n",
       "      <th>1</th>\n",
       "      <td>3</td>\n",
       "      <td>R</td>\n",
       "      <td>Drama|Science Fiction and Fantasy</td>\n",
       "      <td>108.00</td>\n",
       "      <td>rotten</td>\n",
       "      <td>0</td>\n",
       "      <td>May 23, 2018</td>\n",
       "    </tr>\n",
       "    <tr>\n",
       "      <th>2</th>\n",
       "      <td>3</td>\n",
       "      <td>R</td>\n",
       "      <td>Drama|Science Fiction and Fantasy</td>\n",
       "      <td>108.00</td>\n",
       "      <td>fresh</td>\n",
       "      <td>0</td>\n",
       "      <td>January 4, 2018</td>\n",
       "    </tr>\n",
       "    <tr>\n",
       "      <th>3</th>\n",
       "      <td>3</td>\n",
       "      <td>R</td>\n",
       "      <td>Drama|Science Fiction and Fantasy</td>\n",
       "      <td>108.00</td>\n",
       "      <td>fresh</td>\n",
       "      <td>0</td>\n",
       "      <td>November 16, 2017</td>\n",
       "    </tr>\n",
       "    <tr>\n",
       "      <th>4</th>\n",
       "      <td>3</td>\n",
       "      <td>R</td>\n",
       "      <td>Drama|Science Fiction and Fantasy</td>\n",
       "      <td>108.00</td>\n",
       "      <td>fresh</td>\n",
       "      <td>0</td>\n",
       "      <td>October 12, 2017</td>\n",
       "    </tr>\n",
       "  </tbody>\n",
       "</table>\n",
       "</div>"
      ],
      "text/plain": [
       "   id rating                              genre  runtime   fresh  top_critic  \\\n",
       "0   3      R  Drama|Science Fiction and Fantasy   108.00   fresh           0   \n",
       "1   3      R  Drama|Science Fiction and Fantasy   108.00  rotten           0   \n",
       "2   3      R  Drama|Science Fiction and Fantasy   108.00   fresh           0   \n",
       "3   3      R  Drama|Science Fiction and Fantasy   108.00   fresh           0   \n",
       "4   3      R  Drama|Science Fiction and Fantasy   108.00   fresh           0   \n",
       "\n",
       "                date  \n",
       "0  November 10, 2018  \n",
       "1       May 23, 2018  \n",
       "2    January 4, 2018  \n",
       "3  November 16, 2017  \n",
       "4   October 12, 2017  "
      ]
     },
     "execution_count": 48,
     "metadata": {},
     "output_type": "execute_result"
    }
   ],
   "source": [
    "info_reviews.head()"
   ]
  },
  {
   "cell_type": "code",
   "execution_count": 49,
   "id": "d660bbcf-c4e1-45b6-8ba2-36cc88066b37",
   "metadata": {},
   "outputs": [
    {
     "data": {
      "text/plain": [
       "(54432, 7)"
      ]
     },
     "execution_count": 49,
     "metadata": {},
     "output_type": "execute_result"
    }
   ],
   "source": [
    "info_reviews.shape"
   ]
  },
  {
   "cell_type": "markdown",
   "id": "92e82ec3-5b67-4404-b5cd-642415fe71df",
   "metadata": {},
   "source": [
    "### Data cleaning\n",
    "After merging the datasets even though we did cleaning initially it's also advisable to clean the new dataset."
   ]
  },
  {
   "cell_type": "code",
   "execution_count": 50,
   "id": "23264454-d789-41a4-a570-a9921486de45",
   "metadata": {},
   "outputs": [
    {
     "data": {
      "text/plain": [
       "id            0\n",
       "rating        0\n",
       "genre         0\n",
       "runtime       0\n",
       "fresh         0\n",
       "top_critic    0\n",
       "date          0\n",
       "dtype: int64"
      ]
     },
     "execution_count": 50,
     "metadata": {},
     "output_type": "execute_result"
    }
   ],
   "source": [
    "info_reviews.isnull().sum()\n"
   ]
  },
  {
   "cell_type": "markdown",
   "id": "e5fa56b6-d6b5-45a2-8fbe-ed85d14f6a0e",
   "metadata": {},
   "source": [
    "let's clean the column `genre` by removing the , and | separeting the records in that column."
   ]
  },
  {
   "cell_type": "code",
   "execution_count": 51,
   "id": "afa09ebb-90c1-42c0-9670-d00debdb407f",
   "metadata": {},
   "outputs": [],
   "source": [
    "info_reviews['genre'] = info_reviews['genre'].str.replace(r'[|]', ',', regex=True)\n",
    "info_reviews['genre'] = info_reviews['genre'].str.split(',')\n",
    "info_reviews= info_reviews.explode('genre')\n",
    "#Strip spaces\n",
    "info_reviews['genre'] = info_reviews['genre'].str.strip()\n"
   ]
  },
  {
   "cell_type": "markdown",
   "id": "4ec2b7a7-435f-4c0f-9800-2e6f7fd2fafa",
   "metadata": {},
   "source": [
    "## Feature engineering"
   ]
  },
  {
   "cell_type": "markdown",
   "id": "34168a33-2b71-4825-a55e-aa924a6f7ee7",
   "metadata": {},
   "source": [
    "let's change the column date to datetime so that it's easy to work with."
   ]
  },
  {
   "cell_type": "code",
   "execution_count": 52,
   "id": "ec0e154a-2c4b-4d6e-af75-277efbd1d298",
   "metadata": {},
   "outputs": [],
   "source": [
    "info_reviews['date'] = pd.to_datetime(info_reviews['date'], errors='coerce')"
   ]
  },
  {
   "cell_type": "code",
   "execution_count": 53,
   "id": "5ab0d9d9-d458-4aae-9d64-87b4d3429a4a",
   "metadata": {},
   "outputs": [
    {
     "data": {
      "text/html": [
       "<div>\n",
       "<style scoped>\n",
       "    .dataframe tbody tr th:only-of-type {\n",
       "        vertical-align: middle;\n",
       "    }\n",
       "\n",
       "    .dataframe tbody tr th {\n",
       "        vertical-align: top;\n",
       "    }\n",
       "\n",
       "    .dataframe thead th {\n",
       "        text-align: right;\n",
       "    }\n",
       "</style>\n",
       "<table border=\"1\" class=\"dataframe\">\n",
       "  <thead>\n",
       "    <tr style=\"text-align: right;\">\n",
       "      <th></th>\n",
       "      <th>id</th>\n",
       "      <th>rating</th>\n",
       "      <th>genre</th>\n",
       "      <th>runtime</th>\n",
       "      <th>fresh</th>\n",
       "      <th>top_critic</th>\n",
       "      <th>date</th>\n",
       "    </tr>\n",
       "  </thead>\n",
       "  <tbody>\n",
       "    <tr>\n",
       "      <th>0</th>\n",
       "      <td>3</td>\n",
       "      <td>R</td>\n",
       "      <td>Drama</td>\n",
       "      <td>108.00</td>\n",
       "      <td>fresh</td>\n",
       "      <td>0</td>\n",
       "      <td>2018-11-10</td>\n",
       "    </tr>\n",
       "    <tr>\n",
       "      <th>0</th>\n",
       "      <td>3</td>\n",
       "      <td>R</td>\n",
       "      <td>Science Fiction and Fantasy</td>\n",
       "      <td>108.00</td>\n",
       "      <td>fresh</td>\n",
       "      <td>0</td>\n",
       "      <td>2018-11-10</td>\n",
       "    </tr>\n",
       "    <tr>\n",
       "      <th>1</th>\n",
       "      <td>3</td>\n",
       "      <td>R</td>\n",
       "      <td>Drama</td>\n",
       "      <td>108.00</td>\n",
       "      <td>rotten</td>\n",
       "      <td>0</td>\n",
       "      <td>2018-05-23</td>\n",
       "    </tr>\n",
       "    <tr>\n",
       "      <th>1</th>\n",
       "      <td>3</td>\n",
       "      <td>R</td>\n",
       "      <td>Science Fiction and Fantasy</td>\n",
       "      <td>108.00</td>\n",
       "      <td>rotten</td>\n",
       "      <td>0</td>\n",
       "      <td>2018-05-23</td>\n",
       "    </tr>\n",
       "    <tr>\n",
       "      <th>2</th>\n",
       "      <td>3</td>\n",
       "      <td>R</td>\n",
       "      <td>Drama</td>\n",
       "      <td>108.00</td>\n",
       "      <td>fresh</td>\n",
       "      <td>0</td>\n",
       "      <td>2018-01-04</td>\n",
       "    </tr>\n",
       "  </tbody>\n",
       "</table>\n",
       "</div>"
      ],
      "text/plain": [
       "   id rating                        genre  runtime   fresh  top_critic  \\\n",
       "0   3      R                        Drama   108.00   fresh           0   \n",
       "0   3      R  Science Fiction and Fantasy   108.00   fresh           0   \n",
       "1   3      R                        Drama   108.00  rotten           0   \n",
       "1   3      R  Science Fiction and Fantasy   108.00  rotten           0   \n",
       "2   3      R                        Drama   108.00   fresh           0   \n",
       "\n",
       "        date  \n",
       "0 2018-11-10  \n",
       "0 2018-11-10  \n",
       "1 2018-05-23  \n",
       "1 2018-05-23  \n",
       "2 2018-01-04  "
      ]
     },
     "execution_count": 53,
     "metadata": {},
     "output_type": "execute_result"
    }
   ],
   "source": [
    "info_reviews.head()"
   ]
  },
  {
   "cell_type": "markdown",
   "id": "b50bc256-5e33-4688-bcef-6696a401704f",
   "metadata": {},
   "source": [
    "After cleaning our merged dataframes,let's save the final product."
   ]
  },
  {
   "cell_type": "code",
   "execution_count": 54,
   "id": "456b75c0-b964-484f-b82c-01fa04fc6f78",
   "metadata": {},
   "outputs": [],
   "source": [
    "info_reviews.to_csv('mergedinfo_reviews.csv', index=False)"
   ]
  },
  {
   "cell_type": "markdown",
   "id": "adf69a8b-6623-41d6-9492-de435ce22cbe",
   "metadata": {},
   "source": [
    "##  5.3.2 Merging dataset 2"
   ]
  },
  {
   "cell_type": "markdown",
   "id": "c58b9351-9d89-406b-9480-3391ec8de885",
   "metadata": {},
   "source": [
    "Now, let's do a **left join** to merge `cleanedmovie_budget.csv` with the `cleanedbom_movie.csv` on `movie` and right on `title`."
   ]
  },
  {
   "cell_type": "code",
   "execution_count": 55,
   "id": "c3c3ec2a-d56b-437e-8d26-b4aa7bfb9dac",
   "metadata": {},
   "outputs": [
    {
     "data": {
      "text/html": [
       "<div>\n",
       "<style scoped>\n",
       "    .dataframe tbody tr th:only-of-type {\n",
       "        vertical-align: middle;\n",
       "    }\n",
       "\n",
       "    .dataframe tbody tr th {\n",
       "        vertical-align: top;\n",
       "    }\n",
       "\n",
       "    .dataframe thead th {\n",
       "        text-align: right;\n",
       "    }\n",
       "</style>\n",
       "<table border=\"1\" class=\"dataframe\">\n",
       "  <thead>\n",
       "    <tr style=\"text-align: right;\">\n",
       "      <th></th>\n",
       "      <th>id</th>\n",
       "      <th>release_date</th>\n",
       "      <th>movie</th>\n",
       "      <th>production_budget</th>\n",
       "      <th>domestic_gross_x</th>\n",
       "      <th>worldwide_gross</th>\n",
       "      <th>title</th>\n",
       "      <th>studio</th>\n",
       "      <th>domestic_gross_y</th>\n",
       "      <th>foreign_gross</th>\n",
       "      <th>year</th>\n",
       "    </tr>\n",
       "  </thead>\n",
       "  <tbody>\n",
       "    <tr>\n",
       "      <th>0</th>\n",
       "      <td>1</td>\n",
       "      <td>Dec 18, 2009</td>\n",
       "      <td>Avatar</td>\n",
       "      <td>425000000.00</td>\n",
       "      <td>760507625.00</td>\n",
       "      <td>2776345279.00</td>\n",
       "      <td>NaN</td>\n",
       "      <td>NaN</td>\n",
       "      <td>NaN</td>\n",
       "      <td>NaN</td>\n",
       "      <td>NaN</td>\n",
       "    </tr>\n",
       "    <tr>\n",
       "      <th>1</th>\n",
       "      <td>2</td>\n",
       "      <td>May 20, 2011</td>\n",
       "      <td>Pirates of the Caribbean: On Stranger Tides</td>\n",
       "      <td>410600000.00</td>\n",
       "      <td>241063875.00</td>\n",
       "      <td>1045663875.00</td>\n",
       "      <td>Pirates of the Caribbean: On Stranger Tides</td>\n",
       "      <td>BV</td>\n",
       "      <td>241100000.00</td>\n",
       "      <td>804600000.00</td>\n",
       "      <td>2011.00</td>\n",
       "    </tr>\n",
       "    <tr>\n",
       "      <th>2</th>\n",
       "      <td>3</td>\n",
       "      <td>Jun 7, 2019</td>\n",
       "      <td>Dark Phoenix</td>\n",
       "      <td>350000000.00</td>\n",
       "      <td>42762350.00</td>\n",
       "      <td>149762350.00</td>\n",
       "      <td>NaN</td>\n",
       "      <td>NaN</td>\n",
       "      <td>NaN</td>\n",
       "      <td>NaN</td>\n",
       "      <td>NaN</td>\n",
       "    </tr>\n",
       "    <tr>\n",
       "      <th>3</th>\n",
       "      <td>4</td>\n",
       "      <td>May 1, 2015</td>\n",
       "      <td>Avengers: Age of Ultron</td>\n",
       "      <td>330600000.00</td>\n",
       "      <td>459005868.00</td>\n",
       "      <td>1403013963.00</td>\n",
       "      <td>Avengers: Age of Ultron</td>\n",
       "      <td>BV</td>\n",
       "      <td>459000000.00</td>\n",
       "      <td>946400000.00</td>\n",
       "      <td>2015.00</td>\n",
       "    </tr>\n",
       "    <tr>\n",
       "      <th>4</th>\n",
       "      <td>5</td>\n",
       "      <td>Dec 15, 2017</td>\n",
       "      <td>Star Wars Ep. VIII: The Last Jedi</td>\n",
       "      <td>317000000.00</td>\n",
       "      <td>620181382.00</td>\n",
       "      <td>1316721747.00</td>\n",
       "      <td>NaN</td>\n",
       "      <td>NaN</td>\n",
       "      <td>NaN</td>\n",
       "      <td>NaN</td>\n",
       "      <td>NaN</td>\n",
       "    </tr>\n",
       "    <tr>\n",
       "      <th>5</th>\n",
       "      <td>6</td>\n",
       "      <td>Dec 18, 2015</td>\n",
       "      <td>Star Wars Ep. VII: The Force Awakens</td>\n",
       "      <td>306000000.00</td>\n",
       "      <td>936662225.00</td>\n",
       "      <td>2053311220.00</td>\n",
       "      <td>NaN</td>\n",
       "      <td>NaN</td>\n",
       "      <td>NaN</td>\n",
       "      <td>NaN</td>\n",
       "      <td>NaN</td>\n",
       "    </tr>\n",
       "    <tr>\n",
       "      <th>6</th>\n",
       "      <td>7</td>\n",
       "      <td>Apr 27, 2018</td>\n",
       "      <td>Avengers: Infinity War</td>\n",
       "      <td>300000000.00</td>\n",
       "      <td>678815482.00</td>\n",
       "      <td>2048134200.00</td>\n",
       "      <td>Avengers: Infinity War</td>\n",
       "      <td>BV</td>\n",
       "      <td>678800000.00</td>\n",
       "      <td>19000000.00</td>\n",
       "      <td>2018.00</td>\n",
       "    </tr>\n",
       "    <tr>\n",
       "      <th>7</th>\n",
       "      <td>8</td>\n",
       "      <td>May 24, 2007</td>\n",
       "      <td>Pirates of the Caribbean: At Worldâs End</td>\n",
       "      <td>300000000.00</td>\n",
       "      <td>309420425.00</td>\n",
       "      <td>963420425.00</td>\n",
       "      <td>NaN</td>\n",
       "      <td>NaN</td>\n",
       "      <td>NaN</td>\n",
       "      <td>NaN</td>\n",
       "      <td>NaN</td>\n",
       "    </tr>\n",
       "    <tr>\n",
       "      <th>8</th>\n",
       "      <td>9</td>\n",
       "      <td>Nov 17, 2017</td>\n",
       "      <td>Justice League</td>\n",
       "      <td>300000000.00</td>\n",
       "      <td>229024295.00</td>\n",
       "      <td>655945209.00</td>\n",
       "      <td>Justice League</td>\n",
       "      <td>WB</td>\n",
       "      <td>229000000.00</td>\n",
       "      <td>428900000.00</td>\n",
       "      <td>2017.00</td>\n",
       "    </tr>\n",
       "    <tr>\n",
       "      <th>9</th>\n",
       "      <td>10</td>\n",
       "      <td>Nov 6, 2015</td>\n",
       "      <td>Spectre</td>\n",
       "      <td>300000000.00</td>\n",
       "      <td>200074175.00</td>\n",
       "      <td>879620923.00</td>\n",
       "      <td>Spectre</td>\n",
       "      <td>SONY</td>\n",
       "      <td>200100000.00</td>\n",
       "      <td>680600000.00</td>\n",
       "      <td>2015.00</td>\n",
       "    </tr>\n",
       "  </tbody>\n",
       "</table>\n",
       "</div>"
      ],
      "text/plain": [
       "   id  release_date                                        movie  \\\n",
       "0   1  Dec 18, 2009                                       Avatar   \n",
       "1   2  May 20, 2011  Pirates of the Caribbean: On Stranger Tides   \n",
       "2   3   Jun 7, 2019                                 Dark Phoenix   \n",
       "3   4   May 1, 2015                      Avengers: Age of Ultron   \n",
       "4   5  Dec 15, 2017            Star Wars Ep. VIII: The Last Jedi   \n",
       "5   6  Dec 18, 2015         Star Wars Ep. VII: The Force Awakens   \n",
       "6   7  Apr 27, 2018                       Avengers: Infinity War   \n",
       "7   8  May 24, 2007   Pirates of the Caribbean: At Worldâs End   \n",
       "8   9  Nov 17, 2017                               Justice League   \n",
       "9  10   Nov 6, 2015                                      Spectre   \n",
       "\n",
       "   production_budget  domestic_gross_x  worldwide_gross  \\\n",
       "0       425000000.00      760507625.00    2776345279.00   \n",
       "1       410600000.00      241063875.00    1045663875.00   \n",
       "2       350000000.00       42762350.00     149762350.00   \n",
       "3       330600000.00      459005868.00    1403013963.00   \n",
       "4       317000000.00      620181382.00    1316721747.00   \n",
       "5       306000000.00      936662225.00    2053311220.00   \n",
       "6       300000000.00      678815482.00    2048134200.00   \n",
       "7       300000000.00      309420425.00     963420425.00   \n",
       "8       300000000.00      229024295.00     655945209.00   \n",
       "9       300000000.00      200074175.00     879620923.00   \n",
       "\n",
       "                                         title studio  domestic_gross_y  \\\n",
       "0                                          NaN    NaN               NaN   \n",
       "1  Pirates of the Caribbean: On Stranger Tides     BV      241100000.00   \n",
       "2                                          NaN    NaN               NaN   \n",
       "3                      Avengers: Age of Ultron     BV      459000000.00   \n",
       "4                                          NaN    NaN               NaN   \n",
       "5                                          NaN    NaN               NaN   \n",
       "6                       Avengers: Infinity War     BV      678800000.00   \n",
       "7                                          NaN    NaN               NaN   \n",
       "8                               Justice League     WB      229000000.00   \n",
       "9                                      Spectre   SONY      200100000.00   \n",
       "\n",
       "   foreign_gross    year  \n",
       "0            NaN     NaN  \n",
       "1   804600000.00 2011.00  \n",
       "2            NaN     NaN  \n",
       "3   946400000.00 2015.00  \n",
       "4            NaN     NaN  \n",
       "5            NaN     NaN  \n",
       "6    19000000.00 2018.00  \n",
       "7            NaN     NaN  \n",
       "8   428900000.00 2017.00  \n",
       "9   680600000.00 2015.00  "
      ]
     },
     "execution_count": 55,
     "metadata": {},
     "output_type": "execute_result"
    }
   ],
   "source": [
    "movie_budget = pd.read_csv('cleanedmovie_budget.csv')\n",
    "bom_movie = pd.read_csv('cleanedbom_movie.csv')\n",
    "\n",
    "merged_df = pd.merge(movie_budget, bom_movie, left_on='movie', right_on='title', how='left')\n",
    "merged_df.head(10)"
   ]
  },
  {
   "cell_type": "code",
   "execution_count": 56,
   "id": "9ff4a0bb-927d-43ce-ae6b-cd3230884949",
   "metadata": {},
   "outputs": [
    {
     "data": {
      "text/plain": [
       "(5782, 11)"
      ]
     },
     "execution_count": 56,
     "metadata": {},
     "output_type": "execute_result"
    }
   ],
   "source": [
    "merged_df.shape"
   ]
  },
  {
   "cell_type": "code",
   "execution_count": 57,
   "id": "1ed861f7-acaf-47eb-a76d-fc3c2ed34e84",
   "metadata": {},
   "outputs": [
    {
     "data": {
      "text/plain": [
       "Index(['id', 'release_date', 'movie', 'production_budget', 'domestic_gross_x',\n",
       "       'worldwide_gross', 'title', 'studio', 'domestic_gross_y',\n",
       "       'foreign_gross', 'year'],\n",
       "      dtype='object')"
      ]
     },
     "execution_count": 57,
     "metadata": {},
     "output_type": "execute_result"
    }
   ],
   "source": [
    "merged_df.columns"
   ]
  },
  {
   "cell_type": "code",
   "execution_count": 58,
   "id": "f879b7c2-4891-40f8-a97e-00c3e99529ed",
   "metadata": {},
   "outputs": [
    {
     "data": {
      "text/plain": [
       "id                      0\n",
       "release_date            0\n",
       "movie                   0\n",
       "production_budget       0\n",
       "domestic_gross_x        0\n",
       "worldwide_gross         0\n",
       "title                4536\n",
       "studio               4536\n",
       "domestic_gross_y     4536\n",
       "foreign_gross        4536\n",
       "year                 4536\n",
       "dtype: int64"
      ]
     },
     "execution_count": 58,
     "metadata": {},
     "output_type": "execute_result"
    }
   ],
   "source": [
    "merged_df.isnull().sum()"
   ]
  },
  {
   "cell_type": "markdown",
   "id": "c3d6dbcb-ecec-4b5c-b960-a991e230bc57",
   "metadata": {},
   "source": [
    "Since they are columns existing twice like the `domestic_gross`, let's drop the one with missing values.The column `release_date` and `year` have the same contents so it only makes sense we get rid of `year` because of the missing values it has."
   ]
  },
  {
   "cell_type": "code",
   "execution_count": 59,
   "id": "e0147e6c-8b43-491f-b3d2-539a534ba8ba",
   "metadata": {},
   "outputs": [],
   "source": [
    "merged_df = merged_df.drop(['title', 'domestic_gross_y', 'year'], axis=1)\n"
   ]
  },
  {
   "cell_type": "code",
   "execution_count": 60,
   "id": "83189017-4c18-42ab-afc6-aa98ff438859",
   "metadata": {},
   "outputs": [],
   "source": [
    "merged_df['studio'] = merged_df['studio'].fillna('UNK')\n"
   ]
  },
  {
   "cell_type": "markdown",
   "id": "b81f6913-5671-425f-a045-059dbde054dd",
   "metadata": {},
   "source": [
    "## Feature engineering"
   ]
  },
  {
   "cell_type": "code",
   "execution_count": 61,
   "id": "f70d1cfb-3753-496a-9625-7ee35d3972b0",
   "metadata": {},
   "outputs": [],
   "source": [
    "merged_df['release_date'] = pd.to_datetime(merged_df['release_date'], errors='coerce')\n"
   ]
  },
  {
   "cell_type": "code",
   "execution_count": 62,
   "id": "f5477f97-76f7-43c8-8e33-0a40c5915f97",
   "metadata": {},
   "outputs": [
    {
     "data": {
      "text/html": [
       "<div>\n",
       "<style scoped>\n",
       "    .dataframe tbody tr th:only-of-type {\n",
       "        vertical-align: middle;\n",
       "    }\n",
       "\n",
       "    .dataframe tbody tr th {\n",
       "        vertical-align: top;\n",
       "    }\n",
       "\n",
       "    .dataframe thead th {\n",
       "        text-align: right;\n",
       "    }\n",
       "</style>\n",
       "<table border=\"1\" class=\"dataframe\">\n",
       "  <thead>\n",
       "    <tr style=\"text-align: right;\">\n",
       "      <th></th>\n",
       "      <th>id</th>\n",
       "      <th>release_date</th>\n",
       "      <th>production_budget</th>\n",
       "      <th>domestic_gross_x</th>\n",
       "      <th>worldwide_gross</th>\n",
       "      <th>foreign_gross</th>\n",
       "    </tr>\n",
       "  </thead>\n",
       "  <tbody>\n",
       "    <tr>\n",
       "      <th>count</th>\n",
       "      <td>5782.00</td>\n",
       "      <td>5782</td>\n",
       "      <td>5782.00</td>\n",
       "      <td>5782.00</td>\n",
       "      <td>5782.00</td>\n",
       "      <td>1246.00</td>\n",
       "    </tr>\n",
       "    <tr>\n",
       "      <th>mean</th>\n",
       "      <td>50.37</td>\n",
       "      <td>2004-07-06 05:20:31.546177792</td>\n",
       "      <td>31587757.10</td>\n",
       "      <td>41873326.87</td>\n",
       "      <td>91487460.91</td>\n",
       "      <td>90172681.53</td>\n",
       "    </tr>\n",
       "    <tr>\n",
       "      <th>min</th>\n",
       "      <td>1.00</td>\n",
       "      <td>1915-02-08 00:00:00</td>\n",
       "      <td>1100.00</td>\n",
       "      <td>0.00</td>\n",
       "      <td>0.00</td>\n",
       "      <td>600.00</td>\n",
       "    </tr>\n",
       "    <tr>\n",
       "      <th>25%</th>\n",
       "      <td>25.00</td>\n",
       "      <td>2000-04-22 18:00:00</td>\n",
       "      <td>5000000.00</td>\n",
       "      <td>1429534.50</td>\n",
       "      <td>4125414.75</td>\n",
       "      <td>13525000.00</td>\n",
       "    </tr>\n",
       "    <tr>\n",
       "      <th>50%</th>\n",
       "      <td>50.00</td>\n",
       "      <td>2007-03-02 00:00:00</td>\n",
       "      <td>17000000.00</td>\n",
       "      <td>17225945.00</td>\n",
       "      <td>27984448.50</td>\n",
       "      <td>26050000.00</td>\n",
       "    </tr>\n",
       "    <tr>\n",
       "      <th>75%</th>\n",
       "      <td>75.00</td>\n",
       "      <td>2012-12-25 00:00:00</td>\n",
       "      <td>40000000.00</td>\n",
       "      <td>52348661.50</td>\n",
       "      <td>97645836.50</td>\n",
       "      <td>94375000.00</td>\n",
       "    </tr>\n",
       "    <tr>\n",
       "      <th>max</th>\n",
       "      <td>100.00</td>\n",
       "      <td>2020-12-31 00:00:00</td>\n",
       "      <td>425000000.00</td>\n",
       "      <td>936662225.00</td>\n",
       "      <td>2776345279.00</td>\n",
       "      <td>946400000.00</td>\n",
       "    </tr>\n",
       "    <tr>\n",
       "      <th>std</th>\n",
       "      <td>28.82</td>\n",
       "      <td>NaN</td>\n",
       "      <td>41812076.83</td>\n",
       "      <td>68240597.36</td>\n",
       "      <td>174719968.78</td>\n",
       "      <td>146195058.98</td>\n",
       "    </tr>\n",
       "  </tbody>\n",
       "</table>\n",
       "</div>"
      ],
      "text/plain": [
       "           id                   release_date  production_budget  \\\n",
       "count 5782.00                           5782            5782.00   \n",
       "mean    50.37  2004-07-06 05:20:31.546177792        31587757.10   \n",
       "min      1.00            1915-02-08 00:00:00            1100.00   \n",
       "25%     25.00            2000-04-22 18:00:00         5000000.00   \n",
       "50%     50.00            2007-03-02 00:00:00        17000000.00   \n",
       "75%     75.00            2012-12-25 00:00:00        40000000.00   \n",
       "max    100.00            2020-12-31 00:00:00       425000000.00   \n",
       "std     28.82                            NaN        41812076.83   \n",
       "\n",
       "       domestic_gross_x  worldwide_gross  foreign_gross  \n",
       "count           5782.00          5782.00        1246.00  \n",
       "mean        41873326.87      91487460.91    90172681.53  \n",
       "min                0.00             0.00         600.00  \n",
       "25%          1429534.50       4125414.75    13525000.00  \n",
       "50%         17225945.00      27984448.50    26050000.00  \n",
       "75%         52348661.50      97645836.50    94375000.00  \n",
       "max        936662225.00    2776345279.00   946400000.00  \n",
       "std         68240597.36     174719968.78   146195058.98  "
      ]
     },
     "execution_count": 62,
     "metadata": {},
     "output_type": "execute_result"
    }
   ],
   "source": [
    "merged_df.describe()"
   ]
  },
  {
   "cell_type": "code",
   "execution_count": 63,
   "id": "7d3b8407-f6d7-442d-bde1-d56f5b978f7f",
   "metadata": {},
   "outputs": [],
   "source": [
    "merged_df['foreign_gross_estimate'] =merged_df['worldwide_gross'] - merged_df['domestic_gross_x']"
   ]
  },
  {
   "cell_type": "code",
   "execution_count": 64,
   "id": "b0e3b320-2481-46ae-a217-e84ef4f74e0d",
   "metadata": {},
   "outputs": [
    {
     "data": {
      "text/html": [
       "<div>\n",
       "<style scoped>\n",
       "    .dataframe tbody tr th:only-of-type {\n",
       "        vertical-align: middle;\n",
       "    }\n",
       "\n",
       "    .dataframe tbody tr th {\n",
       "        vertical-align: top;\n",
       "    }\n",
       "\n",
       "    .dataframe thead th {\n",
       "        text-align: right;\n",
       "    }\n",
       "</style>\n",
       "<table border=\"1\" class=\"dataframe\">\n",
       "  <thead>\n",
       "    <tr style=\"text-align: right;\">\n",
       "      <th></th>\n",
       "      <th>id</th>\n",
       "      <th>release_date</th>\n",
       "      <th>movie</th>\n",
       "      <th>production_budget</th>\n",
       "      <th>domestic_gross_x</th>\n",
       "      <th>worldwide_gross</th>\n",
       "      <th>studio</th>\n",
       "      <th>foreign_gross</th>\n",
       "      <th>foreign_gross_estimate</th>\n",
       "    </tr>\n",
       "  </thead>\n",
       "  <tbody>\n",
       "    <tr>\n",
       "      <th>0</th>\n",
       "      <td>1</td>\n",
       "      <td>2009-12-18</td>\n",
       "      <td>Avatar</td>\n",
       "      <td>425000000.00</td>\n",
       "      <td>760507625.00</td>\n",
       "      <td>2776345279.00</td>\n",
       "      <td>UNK</td>\n",
       "      <td>NaN</td>\n",
       "      <td>2015837654.00</td>\n",
       "    </tr>\n",
       "    <tr>\n",
       "      <th>1</th>\n",
       "      <td>2</td>\n",
       "      <td>2011-05-20</td>\n",
       "      <td>Pirates of the Caribbean: On Stranger Tides</td>\n",
       "      <td>410600000.00</td>\n",
       "      <td>241063875.00</td>\n",
       "      <td>1045663875.00</td>\n",
       "      <td>BV</td>\n",
       "      <td>804600000.00</td>\n",
       "      <td>804600000.00</td>\n",
       "    </tr>\n",
       "    <tr>\n",
       "      <th>2</th>\n",
       "      <td>3</td>\n",
       "      <td>2019-06-07</td>\n",
       "      <td>Dark Phoenix</td>\n",
       "      <td>350000000.00</td>\n",
       "      <td>42762350.00</td>\n",
       "      <td>149762350.00</td>\n",
       "      <td>UNK</td>\n",
       "      <td>NaN</td>\n",
       "      <td>107000000.00</td>\n",
       "    </tr>\n",
       "    <tr>\n",
       "      <th>3</th>\n",
       "      <td>4</td>\n",
       "      <td>2015-05-01</td>\n",
       "      <td>Avengers: Age of Ultron</td>\n",
       "      <td>330600000.00</td>\n",
       "      <td>459005868.00</td>\n",
       "      <td>1403013963.00</td>\n",
       "      <td>BV</td>\n",
       "      <td>946400000.00</td>\n",
       "      <td>944008095.00</td>\n",
       "    </tr>\n",
       "    <tr>\n",
       "      <th>4</th>\n",
       "      <td>5</td>\n",
       "      <td>2017-12-15</td>\n",
       "      <td>Star Wars Ep. VIII: The Last Jedi</td>\n",
       "      <td>317000000.00</td>\n",
       "      <td>620181382.00</td>\n",
       "      <td>1316721747.00</td>\n",
       "      <td>UNK</td>\n",
       "      <td>NaN</td>\n",
       "      <td>696540365.00</td>\n",
       "    </tr>\n",
       "    <tr>\n",
       "      <th>5</th>\n",
       "      <td>6</td>\n",
       "      <td>2015-12-18</td>\n",
       "      <td>Star Wars Ep. VII: The Force Awakens</td>\n",
       "      <td>306000000.00</td>\n",
       "      <td>936662225.00</td>\n",
       "      <td>2053311220.00</td>\n",
       "      <td>UNK</td>\n",
       "      <td>NaN</td>\n",
       "      <td>1116648995.00</td>\n",
       "    </tr>\n",
       "    <tr>\n",
       "      <th>6</th>\n",
       "      <td>7</td>\n",
       "      <td>2018-04-27</td>\n",
       "      <td>Avengers: Infinity War</td>\n",
       "      <td>300000000.00</td>\n",
       "      <td>678815482.00</td>\n",
       "      <td>2048134200.00</td>\n",
       "      <td>BV</td>\n",
       "      <td>19000000.00</td>\n",
       "      <td>1369318718.00</td>\n",
       "    </tr>\n",
       "    <tr>\n",
       "      <th>7</th>\n",
       "      <td>8</td>\n",
       "      <td>2007-05-24</td>\n",
       "      <td>Pirates of the Caribbean: At Worldâs End</td>\n",
       "      <td>300000000.00</td>\n",
       "      <td>309420425.00</td>\n",
       "      <td>963420425.00</td>\n",
       "      <td>UNK</td>\n",
       "      <td>NaN</td>\n",
       "      <td>654000000.00</td>\n",
       "    </tr>\n",
       "    <tr>\n",
       "      <th>8</th>\n",
       "      <td>9</td>\n",
       "      <td>2017-11-17</td>\n",
       "      <td>Justice League</td>\n",
       "      <td>300000000.00</td>\n",
       "      <td>229024295.00</td>\n",
       "      <td>655945209.00</td>\n",
       "      <td>WB</td>\n",
       "      <td>428900000.00</td>\n",
       "      <td>426920914.00</td>\n",
       "    </tr>\n",
       "    <tr>\n",
       "      <th>9</th>\n",
       "      <td>10</td>\n",
       "      <td>2015-11-06</td>\n",
       "      <td>Spectre</td>\n",
       "      <td>300000000.00</td>\n",
       "      <td>200074175.00</td>\n",
       "      <td>879620923.00</td>\n",
       "      <td>SONY</td>\n",
       "      <td>680600000.00</td>\n",
       "      <td>679546748.00</td>\n",
       "    </tr>\n",
       "    <tr>\n",
       "      <th>10</th>\n",
       "      <td>11</td>\n",
       "      <td>2012-07-20</td>\n",
       "      <td>The Dark Knight Rises</td>\n",
       "      <td>275000000.00</td>\n",
       "      <td>448139099.00</td>\n",
       "      <td>1084439099.00</td>\n",
       "      <td>WB</td>\n",
       "      <td>636800000.00</td>\n",
       "      <td>636300000.00</td>\n",
       "    </tr>\n",
       "  </tbody>\n",
       "</table>\n",
       "</div>"
      ],
      "text/plain": [
       "    id release_date                                        movie  \\\n",
       "0    1   2009-12-18                                       Avatar   \n",
       "1    2   2011-05-20  Pirates of the Caribbean: On Stranger Tides   \n",
       "2    3   2019-06-07                                 Dark Phoenix   \n",
       "3    4   2015-05-01                      Avengers: Age of Ultron   \n",
       "4    5   2017-12-15            Star Wars Ep. VIII: The Last Jedi   \n",
       "5    6   2015-12-18         Star Wars Ep. VII: The Force Awakens   \n",
       "6    7   2018-04-27                       Avengers: Infinity War   \n",
       "7    8   2007-05-24   Pirates of the Caribbean: At Worldâs End   \n",
       "8    9   2017-11-17                               Justice League   \n",
       "9   10   2015-11-06                                      Spectre   \n",
       "10  11   2012-07-20                        The Dark Knight Rises   \n",
       "\n",
       "    production_budget  domestic_gross_x  worldwide_gross studio  \\\n",
       "0        425000000.00      760507625.00    2776345279.00    UNK   \n",
       "1        410600000.00      241063875.00    1045663875.00     BV   \n",
       "2        350000000.00       42762350.00     149762350.00    UNK   \n",
       "3        330600000.00      459005868.00    1403013963.00     BV   \n",
       "4        317000000.00      620181382.00    1316721747.00    UNK   \n",
       "5        306000000.00      936662225.00    2053311220.00    UNK   \n",
       "6        300000000.00      678815482.00    2048134200.00     BV   \n",
       "7        300000000.00      309420425.00     963420425.00    UNK   \n",
       "8        300000000.00      229024295.00     655945209.00     WB   \n",
       "9        300000000.00      200074175.00     879620923.00   SONY   \n",
       "10       275000000.00      448139099.00    1084439099.00     WB   \n",
       "\n",
       "    foreign_gross  foreign_gross_estimate  \n",
       "0             NaN           2015837654.00  \n",
       "1    804600000.00            804600000.00  \n",
       "2             NaN            107000000.00  \n",
       "3    946400000.00            944008095.00  \n",
       "4             NaN            696540365.00  \n",
       "5             NaN           1116648995.00  \n",
       "6     19000000.00           1369318718.00  \n",
       "7             NaN            654000000.00  \n",
       "8    428900000.00            426920914.00  \n",
       "9    680600000.00            679546748.00  \n",
       "10   636800000.00            636300000.00  "
      ]
     },
     "execution_count": 64,
     "metadata": {},
     "output_type": "execute_result"
    }
   ],
   "source": [
    "merged_df.head(11)"
   ]
  },
  {
   "cell_type": "markdown",
   "id": "fc108d63-743c-4f19-ad64-630f244f262b",
   "metadata": {},
   "source": [
    "we can generate `foreign_gross` by subtrating the `worldwide_gross` and the `domestic_gross_x` columns. If you compare the new column `foreign_gross_estimate` gives as values almost similar to `foreign_gross`. instead of taking the `foriegn_gross` whose values are rounded of and missing we can opt to use`foriegn_gross_estimate`."
   ]
  },
  {
   "cell_type": "code",
   "execution_count": 65,
   "id": "06a4d637-20c4-4bf0-8416-a18c31692511",
   "metadata": {},
   "outputs": [],
   "source": [
    "merged_df = merged_df.drop([ 'foreign_gross'], axis=1)"
   ]
  },
  {
   "cell_type": "code",
   "execution_count": 66,
   "id": "5210e09b-24ba-4fd9-8525-117246cb7429",
   "metadata": {},
   "outputs": [
    {
     "name": "stdout",
     "output_type": "stream",
     "text": [
      "<class 'pandas.core.frame.DataFrame'>\n",
      "RangeIndex: 5782 entries, 0 to 5781\n",
      "Data columns (total 8 columns):\n",
      " #   Column                  Non-Null Count  Dtype         \n",
      "---  ------                  --------------  -----         \n",
      " 0   id                      5782 non-null   int64         \n",
      " 1   release_date            5782 non-null   datetime64[ns]\n",
      " 2   movie                   5782 non-null   object        \n",
      " 3   production_budget       5782 non-null   float64       \n",
      " 4   domestic_gross_x        5782 non-null   float64       \n",
      " 5   worldwide_gross         5782 non-null   float64       \n",
      " 6   studio                  5782 non-null   object        \n",
      " 7   foreign_gross_estimate  5782 non-null   float64       \n",
      "dtypes: datetime64[ns](1), float64(4), int64(1), object(2)\n",
      "memory usage: 361.5+ KB\n"
     ]
    }
   ],
   "source": [
    "merged_df.info()"
   ]
  },
  {
   "cell_type": "code",
   "execution_count": 67,
   "id": "5b70f36f-2b59-4dcd-b56d-a279d1555036",
   "metadata": {},
   "outputs": [],
   "source": [
    "merged_df['gross_profit'] = merged_df['worldwide_gross'] - merged_df['production_budget']"
   ]
  },
  {
   "cell_type": "code",
   "execution_count": 68,
   "id": "376b50f8-6dc8-4528-97c8-854cc62a1964",
   "metadata": {},
   "outputs": [
    {
     "data": {
      "text/plain": [
       "Index(['id', 'release_date', 'movie', 'production_budget', 'domestic_gross_x',\n",
       "       'worldwide_gross', 'studio', 'foreign_gross_estimate', 'gross_profit'],\n",
       "      dtype='object')"
      ]
     },
     "execution_count": 68,
     "metadata": {},
     "output_type": "execute_result"
    }
   ],
   "source": [
    "merged_df.columns"
   ]
  },
  {
   "cell_type": "code",
   "execution_count": 69,
   "id": "90593711-ac4d-4b28-bdea-997b3dc5b41f",
   "metadata": {},
   "outputs": [],
   "source": [
    "merged_df.to_csv('mergedbom_budgets.csv', index=False)"
   ]
  },
  {
   "cell_type": "markdown",
   "id": "98a58942-8d7b-402d-ab83-fdaca8b9488c",
   "metadata": {},
   "source": [
    "# 5.4 USING THE `IMDB` DATABASE."
   ]
  },
  {
   "cell_type": "markdown",
   "id": "6a78b4ab-7173-4f69-8e95-d3df7e530ceb",
   "metadata": {},
   "source": [
    "we will use the **IMDB** database `im.db.zip` but we will only focuse on two tables `movie_basics` and `movie_ratings` tables."
   ]
  },
  {
   "cell_type": "markdown",
   "id": "73408667-128e-4e97-8ec3-8358121c3e2c",
   "metadata": {},
   "source": [
    "![movie data erd](https://raw.githubusercontent.com/learn-co-curriculum/dsc-phase-2-project-v3/main/movie_data_erd.jpeg)\n"
   ]
  },
  {
   "cell_type": "markdown",
   "id": "184d5485-d03c-49bb-bc05-f028b1039537",
   "metadata": {},
   "source": [
    "import the necessary libraries required to deal with a database `imdb` and unzip the file."
   ]
  },
  {
   "cell_type": "code",
   "execution_count": 70,
   "id": "719fa75d-4f3e-4267-9726-8ddaa28a6078",
   "metadata": {},
   "outputs": [],
   "source": [
    "import sqlite3\n",
    "import zipfile\n",
    "import os\n",
    "zipfile.ZipFile(\"im.db.zip\", 'r').extractall(\"temp_folder\")\n",
    "conn = sqlite3.connect(\"temp_folder/im.db\")"
   ]
  },
  {
   "cell_type": "code",
   "execution_count": 71,
   "id": "4b30fa3f-a151-4ad8-ab4a-bf3da4ecf505",
   "metadata": {},
   "outputs": [
    {
     "data": {
      "text/html": [
       "<div>\n",
       "<style scoped>\n",
       "    .dataframe tbody tr th:only-of-type {\n",
       "        vertical-align: middle;\n",
       "    }\n",
       "\n",
       "    .dataframe tbody tr th {\n",
       "        vertical-align: top;\n",
       "    }\n",
       "\n",
       "    .dataframe thead th {\n",
       "        text-align: right;\n",
       "    }\n",
       "</style>\n",
       "<table border=\"1\" class=\"dataframe\">\n",
       "  <thead>\n",
       "    <tr style=\"text-align: right;\">\n",
       "      <th></th>\n",
       "      <th>name</th>\n",
       "    </tr>\n",
       "  </thead>\n",
       "  <tbody>\n",
       "    <tr>\n",
       "      <th>0</th>\n",
       "      <td>movie_basics</td>\n",
       "    </tr>\n",
       "    <tr>\n",
       "      <th>1</th>\n",
       "      <td>directors</td>\n",
       "    </tr>\n",
       "    <tr>\n",
       "      <th>2</th>\n",
       "      <td>known_for</td>\n",
       "    </tr>\n",
       "    <tr>\n",
       "      <th>3</th>\n",
       "      <td>movie_akas</td>\n",
       "    </tr>\n",
       "    <tr>\n",
       "      <th>4</th>\n",
       "      <td>movie_ratings</td>\n",
       "    </tr>\n",
       "    <tr>\n",
       "      <th>5</th>\n",
       "      <td>persons</td>\n",
       "    </tr>\n",
       "    <tr>\n",
       "      <th>6</th>\n",
       "      <td>principals</td>\n",
       "    </tr>\n",
       "    <tr>\n",
       "      <th>7</th>\n",
       "      <td>writers</td>\n",
       "    </tr>\n",
       "  </tbody>\n",
       "</table>\n",
       "</div>"
      ],
      "text/plain": [
       "            name\n",
       "0   movie_basics\n",
       "1      directors\n",
       "2      known_for\n",
       "3     movie_akas\n",
       "4  movie_ratings\n",
       "5        persons\n",
       "6     principals\n",
       "7        writers"
      ]
     },
     "execution_count": 71,
     "metadata": {},
     "output_type": "execute_result"
    }
   ],
   "source": [
    "df = pd.read_sql(\"\"\"SELECT name \n",
    "                    FROM sqlite_master\n",
    "                    WHERE type ='table';\"\"\",conn)\n",
    "df"
   ]
  },
  {
   "cell_type": "markdown",
   "id": "bee86399-a293-449e-9260-1ab13d4b007a",
   "metadata": {},
   "source": [
    "Let's get to see the contents of the `movie_basics` table."
   ]
  },
  {
   "cell_type": "code",
   "execution_count": 72,
   "id": "08f95a71-3d5d-49b6-9d37-d41467e03c78",
   "metadata": {},
   "outputs": [
    {
     "data": {
      "text/html": [
       "<div>\n",
       "<style scoped>\n",
       "    .dataframe tbody tr th:only-of-type {\n",
       "        vertical-align: middle;\n",
       "    }\n",
       "\n",
       "    .dataframe tbody tr th {\n",
       "        vertical-align: top;\n",
       "    }\n",
       "\n",
       "    .dataframe thead th {\n",
       "        text-align: right;\n",
       "    }\n",
       "</style>\n",
       "<table border=\"1\" class=\"dataframe\">\n",
       "  <thead>\n",
       "    <tr style=\"text-align: right;\">\n",
       "      <th></th>\n",
       "      <th>movie_id</th>\n",
       "      <th>primary_title</th>\n",
       "      <th>original_title</th>\n",
       "      <th>start_year</th>\n",
       "      <th>runtime_minutes</th>\n",
       "      <th>genres</th>\n",
       "    </tr>\n",
       "  </thead>\n",
       "  <tbody>\n",
       "    <tr>\n",
       "      <th>0</th>\n",
       "      <td>tt0063540</td>\n",
       "      <td>Sunghursh</td>\n",
       "      <td>Sunghursh</td>\n",
       "      <td>2013</td>\n",
       "      <td>175.00</td>\n",
       "      <td>Action,Crime,Drama</td>\n",
       "    </tr>\n",
       "    <tr>\n",
       "      <th>1</th>\n",
       "      <td>tt0066787</td>\n",
       "      <td>One Day Before the Rainy Season</td>\n",
       "      <td>Ashad Ka Ek Din</td>\n",
       "      <td>2019</td>\n",
       "      <td>114.00</td>\n",
       "      <td>Biography,Drama</td>\n",
       "    </tr>\n",
       "    <tr>\n",
       "      <th>2</th>\n",
       "      <td>tt0069049</td>\n",
       "      <td>The Other Side of the Wind</td>\n",
       "      <td>The Other Side of the Wind</td>\n",
       "      <td>2018</td>\n",
       "      <td>122.00</td>\n",
       "      <td>Drama</td>\n",
       "    </tr>\n",
       "    <tr>\n",
       "      <th>3</th>\n",
       "      <td>tt0069204</td>\n",
       "      <td>Sabse Bada Sukh</td>\n",
       "      <td>Sabse Bada Sukh</td>\n",
       "      <td>2018</td>\n",
       "      <td>NaN</td>\n",
       "      <td>Comedy,Drama</td>\n",
       "    </tr>\n",
       "    <tr>\n",
       "      <th>4</th>\n",
       "      <td>tt0100275</td>\n",
       "      <td>The Wandering Soap Opera</td>\n",
       "      <td>La Telenovela Errante</td>\n",
       "      <td>2017</td>\n",
       "      <td>80.00</td>\n",
       "      <td>Comedy,Drama,Fantasy</td>\n",
       "    </tr>\n",
       "    <tr>\n",
       "      <th>5</th>\n",
       "      <td>tt0111414</td>\n",
       "      <td>A Thin Life</td>\n",
       "      <td>A Thin Life</td>\n",
       "      <td>2018</td>\n",
       "      <td>75.00</td>\n",
       "      <td>Comedy</td>\n",
       "    </tr>\n",
       "    <tr>\n",
       "      <th>6</th>\n",
       "      <td>tt0112502</td>\n",
       "      <td>Bigfoot</td>\n",
       "      <td>Bigfoot</td>\n",
       "      <td>2017</td>\n",
       "      <td>NaN</td>\n",
       "      <td>Horror,Thriller</td>\n",
       "    </tr>\n",
       "    <tr>\n",
       "      <th>7</th>\n",
       "      <td>tt0137204</td>\n",
       "      <td>Joe Finds Grace</td>\n",
       "      <td>Joe Finds Grace</td>\n",
       "      <td>2017</td>\n",
       "      <td>83.00</td>\n",
       "      <td>Adventure,Animation,Comedy</td>\n",
       "    </tr>\n",
       "    <tr>\n",
       "      <th>8</th>\n",
       "      <td>tt0139613</td>\n",
       "      <td>O Silêncio</td>\n",
       "      <td>O Silêncio</td>\n",
       "      <td>2012</td>\n",
       "      <td>NaN</td>\n",
       "      <td>Documentary,History</td>\n",
       "    </tr>\n",
       "    <tr>\n",
       "      <th>9</th>\n",
       "      <td>tt0144449</td>\n",
       "      <td>Nema aviona za Zagreb</td>\n",
       "      <td>Nema aviona za Zagreb</td>\n",
       "      <td>2012</td>\n",
       "      <td>82.00</td>\n",
       "      <td>Biography</td>\n",
       "    </tr>\n",
       "  </tbody>\n",
       "</table>\n",
       "</div>"
      ],
      "text/plain": [
       "    movie_id                    primary_title              original_title  \\\n",
       "0  tt0063540                        Sunghursh                   Sunghursh   \n",
       "1  tt0066787  One Day Before the Rainy Season             Ashad Ka Ek Din   \n",
       "2  tt0069049       The Other Side of the Wind  The Other Side of the Wind   \n",
       "3  tt0069204                  Sabse Bada Sukh             Sabse Bada Sukh   \n",
       "4  tt0100275         The Wandering Soap Opera       La Telenovela Errante   \n",
       "5  tt0111414                      A Thin Life                 A Thin Life   \n",
       "6  tt0112502                          Bigfoot                     Bigfoot   \n",
       "7  tt0137204                  Joe Finds Grace             Joe Finds Grace   \n",
       "8  tt0139613                       O Silêncio                  O Silêncio   \n",
       "9  tt0144449            Nema aviona za Zagreb       Nema aviona za Zagreb   \n",
       "\n",
       "   start_year  runtime_minutes                      genres  \n",
       "0        2013           175.00          Action,Crime,Drama  \n",
       "1        2019           114.00             Biography,Drama  \n",
       "2        2018           122.00                       Drama  \n",
       "3        2018              NaN                Comedy,Drama  \n",
       "4        2017            80.00        Comedy,Drama,Fantasy  \n",
       "5        2018            75.00                      Comedy  \n",
       "6        2017              NaN             Horror,Thriller  \n",
       "7        2017            83.00  Adventure,Animation,Comedy  \n",
       "8        2012              NaN         Documentary,History  \n",
       "9        2012            82.00                   Biography  "
      ]
     },
     "execution_count": 72,
     "metadata": {},
     "output_type": "execute_result"
    }
   ],
   "source": [
    "df = pd.read_sql(\"\"\" SELECT *\n",
    "                     FROM  movie_basics\n",
    "                     LIMIT 10;\"\"\",conn)\n",
    "df                   "
   ]
  },
  {
   "cell_type": "markdown",
   "id": "e533f15a-a79c-4bf2-b03a-c16d979882d0",
   "metadata": {},
   "source": [
    "The table has 6 columns and if you pay close attention to the `runtime` column contains null values.Also, the `primary_title` and `original_title` have similar records that differ only slightly."
   ]
  },
  {
   "cell_type": "code",
   "execution_count": 73,
   "id": "ada25225-8eba-4372-94cb-917d2a01b389",
   "metadata": {},
   "outputs": [
    {
     "data": {
      "text/html": [
       "<div>\n",
       "<style scoped>\n",
       "    .dataframe tbody tr th:only-of-type {\n",
       "        vertical-align: middle;\n",
       "    }\n",
       "\n",
       "    .dataframe tbody tr th {\n",
       "        vertical-align: top;\n",
       "    }\n",
       "\n",
       "    .dataframe thead th {\n",
       "        text-align: right;\n",
       "    }\n",
       "</style>\n",
       "<table border=\"1\" class=\"dataframe\">\n",
       "  <thead>\n",
       "    <tr style=\"text-align: right;\">\n",
       "      <th></th>\n",
       "      <th>movie_id</th>\n",
       "      <th>averagerating</th>\n",
       "      <th>numvotes</th>\n",
       "    </tr>\n",
       "  </thead>\n",
       "  <tbody>\n",
       "    <tr>\n",
       "      <th>0</th>\n",
       "      <td>tt10356526</td>\n",
       "      <td>8.30</td>\n",
       "      <td>31</td>\n",
       "    </tr>\n",
       "    <tr>\n",
       "      <th>1</th>\n",
       "      <td>tt10384606</td>\n",
       "      <td>8.90</td>\n",
       "      <td>559</td>\n",
       "    </tr>\n",
       "    <tr>\n",
       "      <th>2</th>\n",
       "      <td>tt1042974</td>\n",
       "      <td>6.40</td>\n",
       "      <td>20</td>\n",
       "    </tr>\n",
       "    <tr>\n",
       "      <th>3</th>\n",
       "      <td>tt1043726</td>\n",
       "      <td>4.20</td>\n",
       "      <td>50352</td>\n",
       "    </tr>\n",
       "    <tr>\n",
       "      <th>4</th>\n",
       "      <td>tt1060240</td>\n",
       "      <td>6.50</td>\n",
       "      <td>21</td>\n",
       "    </tr>\n",
       "  </tbody>\n",
       "</table>\n",
       "</div>"
      ],
      "text/plain": [
       "     movie_id  averagerating  numvotes\n",
       "0  tt10356526           8.30        31\n",
       "1  tt10384606           8.90       559\n",
       "2   tt1042974           6.40        20\n",
       "3   tt1043726           4.20     50352\n",
       "4   tt1060240           6.50        21"
      ]
     },
     "execution_count": 73,
     "metadata": {},
     "output_type": "execute_result"
    }
   ],
   "source": [
    "df = pd.read_sql(\"\"\" SELECT *\n",
    "                     FROM movie_ratings\n",
    "                     LIMIT 5;\"\"\",conn)\n",
    "df                   "
   ]
  },
  {
   "cell_type": "markdown",
   "id": "3c9fa5a5-f4d8-40af-ac9b-c1ba30d7b83f",
   "metadata": {},
   "source": [
    "The table `movie_ratings` has only 3 columns and has a similar table to `movie_basics`.Let's join our tables with a common column known as `movie_id` and arrange from the first `movie_id`."
   ]
  },
  {
   "cell_type": "code",
   "execution_count": 74,
   "id": "a694df4c-a30f-4fdd-9390-de4c4c954840",
   "metadata": {},
   "outputs": [
    {
     "data": {
      "text/html": [
       "<div>\n",
       "<style scoped>\n",
       "    .dataframe tbody tr th:only-of-type {\n",
       "        vertical-align: middle;\n",
       "    }\n",
       "\n",
       "    .dataframe tbody tr th {\n",
       "        vertical-align: top;\n",
       "    }\n",
       "\n",
       "    .dataframe thead th {\n",
       "        text-align: right;\n",
       "    }\n",
       "</style>\n",
       "<table border=\"1\" class=\"dataframe\">\n",
       "  <thead>\n",
       "    <tr style=\"text-align: right;\">\n",
       "      <th></th>\n",
       "      <th>movie_id</th>\n",
       "      <th>primary_title</th>\n",
       "      <th>genres</th>\n",
       "      <th>numvotes</th>\n",
       "      <th>averagerating</th>\n",
       "    </tr>\n",
       "  </thead>\n",
       "  <tbody>\n",
       "    <tr>\n",
       "      <th>0</th>\n",
       "      <td>tt0063540</td>\n",
       "      <td>Sunghursh</td>\n",
       "      <td>Action,Crime,Drama</td>\n",
       "      <td>77</td>\n",
       "      <td>7.00</td>\n",
       "    </tr>\n",
       "    <tr>\n",
       "      <th>1</th>\n",
       "      <td>tt0066787</td>\n",
       "      <td>One Day Before the Rainy Season</td>\n",
       "      <td>Biography,Drama</td>\n",
       "      <td>43</td>\n",
       "      <td>7.20</td>\n",
       "    </tr>\n",
       "    <tr>\n",
       "      <th>2</th>\n",
       "      <td>tt0069049</td>\n",
       "      <td>The Other Side of the Wind</td>\n",
       "      <td>Drama</td>\n",
       "      <td>4517</td>\n",
       "      <td>6.90</td>\n",
       "    </tr>\n",
       "    <tr>\n",
       "      <th>3</th>\n",
       "      <td>tt0069204</td>\n",
       "      <td>Sabse Bada Sukh</td>\n",
       "      <td>Comedy,Drama</td>\n",
       "      <td>13</td>\n",
       "      <td>6.10</td>\n",
       "    </tr>\n",
       "    <tr>\n",
       "      <th>4</th>\n",
       "      <td>tt0100275</td>\n",
       "      <td>The Wandering Soap Opera</td>\n",
       "      <td>Comedy,Drama,Fantasy</td>\n",
       "      <td>119</td>\n",
       "      <td>6.50</td>\n",
       "    </tr>\n",
       "    <tr>\n",
       "      <th>5</th>\n",
       "      <td>tt0112502</td>\n",
       "      <td>Bigfoot</td>\n",
       "      <td>Horror,Thriller</td>\n",
       "      <td>32</td>\n",
       "      <td>4.10</td>\n",
       "    </tr>\n",
       "    <tr>\n",
       "      <th>6</th>\n",
       "      <td>tt0137204</td>\n",
       "      <td>Joe Finds Grace</td>\n",
       "      <td>Adventure,Animation,Comedy</td>\n",
       "      <td>263</td>\n",
       "      <td>8.10</td>\n",
       "    </tr>\n",
       "    <tr>\n",
       "      <th>7</th>\n",
       "      <td>tt0146592</td>\n",
       "      <td>Pál Adrienn</td>\n",
       "      <td>Drama</td>\n",
       "      <td>451</td>\n",
       "      <td>6.80</td>\n",
       "    </tr>\n",
       "    <tr>\n",
       "      <th>8</th>\n",
       "      <td>tt0154039</td>\n",
       "      <td>So Much for Justice!</td>\n",
       "      <td>History</td>\n",
       "      <td>64</td>\n",
       "      <td>4.60</td>\n",
       "    </tr>\n",
       "    <tr>\n",
       "      <th>9</th>\n",
       "      <td>tt0159369</td>\n",
       "      <td>Cooper and Hemingway: The True Gen</td>\n",
       "      <td>Documentary</td>\n",
       "      <td>53</td>\n",
       "      <td>7.60</td>\n",
       "    </tr>\n",
       "  </tbody>\n",
       "</table>\n",
       "</div>"
      ],
      "text/plain": [
       "    movie_id                       primary_title                      genres  \\\n",
       "0  tt0063540                           Sunghursh          Action,Crime,Drama   \n",
       "1  tt0066787     One Day Before the Rainy Season             Biography,Drama   \n",
       "2  tt0069049          The Other Side of the Wind                       Drama   \n",
       "3  tt0069204                     Sabse Bada Sukh                Comedy,Drama   \n",
       "4  tt0100275            The Wandering Soap Opera        Comedy,Drama,Fantasy   \n",
       "5  tt0112502                             Bigfoot             Horror,Thriller   \n",
       "6  tt0137204                     Joe Finds Grace  Adventure,Animation,Comedy   \n",
       "7  tt0146592                         Pál Adrienn                       Drama   \n",
       "8  tt0154039                So Much for Justice!                     History   \n",
       "9  tt0159369  Cooper and Hemingway: The True Gen                 Documentary   \n",
       "\n",
       "   numvotes  averagerating  \n",
       "0        77           7.00  \n",
       "1        43           7.20  \n",
       "2      4517           6.90  \n",
       "3        13           6.10  \n",
       "4       119           6.50  \n",
       "5        32           4.10  \n",
       "6       263           8.10  \n",
       "7       451           6.80  \n",
       "8        64           4.60  \n",
       "9        53           7.60  "
      ]
     },
     "execution_count": 74,
     "metadata": {},
     "output_type": "execute_result"
    }
   ],
   "source": [
    "df = pd.read_sql(\"\"\"SELECT \n",
    "    movie_basics.movie_id,\n",
    "    movie_basics.primary_title,\n",
    "    movie_basics.genres,\n",
    "    movie_ratings.numvotes,\n",
    "    movie_ratings.averagerating\n",
    "FROM movie_basics\n",
    "JOIN movie_ratings ON movie_basics.movie_id = movie_ratings.movie_id\n",
    "ORDER BY movie_ratings.movie_id ASC\n",
    "LIMIT 10;\"\"\",conn)\n",
    "df\n"
   ]
  },
  {
   "cell_type": "markdown",
   "id": "b208ba26-b685-49de-95bf-e75ebfa11ea1",
   "metadata": {},
   "source": [
    "Let's get to know the most popular genre."
   ]
  },
  {
   "cell_type": "code",
   "execution_count": 75,
   "id": "653284bb-f462-4492-a547-1b5e81526305",
   "metadata": {},
   "outputs": [
    {
     "data": {
      "text/html": [
       "<div>\n",
       "<style scoped>\n",
       "    .dataframe tbody tr th:only-of-type {\n",
       "        vertical-align: middle;\n",
       "    }\n",
       "\n",
       "    .dataframe tbody tr th {\n",
       "        vertical-align: top;\n",
       "    }\n",
       "\n",
       "    .dataframe thead th {\n",
       "        text-align: right;\n",
       "    }\n",
       "</style>\n",
       "<table border=\"1\" class=\"dataframe\">\n",
       "  <thead>\n",
       "    <tr style=\"text-align: right;\">\n",
       "      <th></th>\n",
       "      <th>genres</th>\n",
       "      <th>avg_rating</th>\n",
       "      <th>movie_count</th>\n",
       "    </tr>\n",
       "  </thead>\n",
       "  <tbody>\n",
       "    <tr>\n",
       "      <th>0</th>\n",
       "      <td>Drama</td>\n",
       "      <td>6.49</td>\n",
       "      <td>11612</td>\n",
       "    </tr>\n",
       "    <tr>\n",
       "      <th>1</th>\n",
       "      <td>Documentary</td>\n",
       "      <td>7.29</td>\n",
       "      <td>10313</td>\n",
       "    </tr>\n",
       "    <tr>\n",
       "      <th>2</th>\n",
       "      <td>Comedy</td>\n",
       "      <td>5.78</td>\n",
       "      <td>5613</td>\n",
       "    </tr>\n",
       "    <tr>\n",
       "      <th>3</th>\n",
       "      <td>Horror</td>\n",
       "      <td>4.84</td>\n",
       "      <td>2692</td>\n",
       "    </tr>\n",
       "    <tr>\n",
       "      <th>4</th>\n",
       "      <td>Comedy,Drama</td>\n",
       "      <td>6.36</td>\n",
       "      <td>2617</td>\n",
       "    </tr>\n",
       "  </tbody>\n",
       "</table>\n",
       "</div>"
      ],
      "text/plain": [
       "         genres  avg_rating  movie_count\n",
       "0         Drama        6.49        11612\n",
       "1   Documentary        7.29        10313\n",
       "2        Comedy        5.78         5613\n",
       "3        Horror        4.84         2692\n",
       "4  Comedy,Drama        6.36         2617"
      ]
     },
     "execution_count": 75,
     "metadata": {},
     "output_type": "execute_result"
    }
   ],
   "source": [
    "df = pd.read_sql(\"\"\"SELECT  mb.genres,\n",
    "    AVG(mr.averagerating) AS avg_rating,\n",
    "    COUNT(genres) AS movie_count\n",
    "FROM movie_basics AS mb\n",
    "JOIN movie_ratings AS mr ON mb.movie_id = mr.movie_id\n",
    "GROUP BY mb.genres\n",
    "ORDER BY movie_count DESC\n",
    "LIMIT 5;\"\"\",conn)\n",
    "df"
   ]
  },
  {
   "cell_type": "markdown",
   "id": "c3d9ce1a-b828-47f0-ba8f-0ae80dff57b7",
   "metadata": {},
   "source": [
    "Inorder to conduct even more analysis on this two tables, let's choose the relavant tables for our analysis then change and save them as a csv file."
   ]
  },
  {
   "cell_type": "code",
   "execution_count": 76,
   "id": "3842c86a-8a99-4d50-bd7b-96f8dd0031b6",
   "metadata": {},
   "outputs": [],
   "source": [
    "query = (\"\"\"SELECT \n",
    "    movie_basics.movie_id,\n",
    "    movie_basics.primary_title,\n",
    "    movie_basics.genres,\n",
    "    movie_ratings.averagerating,\n",
    "    movie_ratings.numvotes\n",
    "FROM movie_basics\n",
    "JOIN movie_ratings ON movie_basics.movie_id = movie_ratings.movie_id\n",
    "ORDER BY movie_basics.movie_id ASC;\"\"\")\n",
    "\n"
   ]
  },
  {
   "cell_type": "code",
   "execution_count": 77,
   "id": "2960308a-f628-476e-bdd1-b3ab0d8c4200",
   "metadata": {},
   "outputs": [],
   "source": [
    "df = pd.read_sql_query(query, conn)\n"
   ]
  },
  {
   "cell_type": "code",
   "execution_count": 78,
   "id": "aeb4dea2-b8e0-4702-8922-58575f323999",
   "metadata": {},
   "outputs": [],
   "source": [
    "df.to_csv(\"merged_imdb.csv\", index=False)"
   ]
  },
  {
   "cell_type": "code",
   "execution_count": 79,
   "id": "30057dd4-53e7-48e4-8007-003664c2494f",
   "metadata": {},
   "outputs": [],
   "source": [
    "#close connection\n",
    "conn.close()"
   ]
  },
  {
   "cell_type": "markdown",
   "id": "7ea1d333-77d5-4f7d-857a-f4f190102a3a",
   "metadata": {},
   "source": [
    "convert it to a csv file inorder to clean and get rid of the missing values because we can't do that with SQL language and it's easier to use pandas."
   ]
  },
  {
   "cell_type": "markdown",
   "id": "c6ddeabc-45f7-4e26-9a53-daa422e31170",
   "metadata": {},
   "source": [
    "## 5.4.1 CLEAN THE CONVERTED DATABASE"
   ]
  },
  {
   "cell_type": "code",
   "execution_count": 80,
   "id": "d6678cf7-6919-4315-8ea8-44fedd8f0769",
   "metadata": {},
   "outputs": [
    {
     "data": {
      "text/html": [
       "<div>\n",
       "<style scoped>\n",
       "    .dataframe tbody tr th:only-of-type {\n",
       "        vertical-align: middle;\n",
       "    }\n",
       "\n",
       "    .dataframe tbody tr th {\n",
       "        vertical-align: top;\n",
       "    }\n",
       "\n",
       "    .dataframe thead th {\n",
       "        text-align: right;\n",
       "    }\n",
       "</style>\n",
       "<table border=\"1\" class=\"dataframe\">\n",
       "  <thead>\n",
       "    <tr style=\"text-align: right;\">\n",
       "      <th></th>\n",
       "      <th>movie_id</th>\n",
       "      <th>primary_title</th>\n",
       "      <th>genres</th>\n",
       "      <th>averagerating</th>\n",
       "      <th>numvotes</th>\n",
       "    </tr>\n",
       "  </thead>\n",
       "  <tbody>\n",
       "    <tr>\n",
       "      <th>0</th>\n",
       "      <td>tt0063540</td>\n",
       "      <td>Sunghursh</td>\n",
       "      <td>Action,Crime,Drama</td>\n",
       "      <td>7.00</td>\n",
       "      <td>77</td>\n",
       "    </tr>\n",
       "    <tr>\n",
       "      <th>1</th>\n",
       "      <td>tt0066787</td>\n",
       "      <td>One Day Before the Rainy Season</td>\n",
       "      <td>Biography,Drama</td>\n",
       "      <td>7.20</td>\n",
       "      <td>43</td>\n",
       "    </tr>\n",
       "    <tr>\n",
       "      <th>2</th>\n",
       "      <td>tt0069049</td>\n",
       "      <td>The Other Side of the Wind</td>\n",
       "      <td>Drama</td>\n",
       "      <td>6.90</td>\n",
       "      <td>4517</td>\n",
       "    </tr>\n",
       "    <tr>\n",
       "      <th>3</th>\n",
       "      <td>tt0069204</td>\n",
       "      <td>Sabse Bada Sukh</td>\n",
       "      <td>Comedy,Drama</td>\n",
       "      <td>6.10</td>\n",
       "      <td>13</td>\n",
       "    </tr>\n",
       "    <tr>\n",
       "      <th>4</th>\n",
       "      <td>tt0100275</td>\n",
       "      <td>The Wandering Soap Opera</td>\n",
       "      <td>Comedy,Drama,Fantasy</td>\n",
       "      <td>6.50</td>\n",
       "      <td>119</td>\n",
       "    </tr>\n",
       "  </tbody>\n",
       "</table>\n",
       "</div>"
      ],
      "text/plain": [
       "    movie_id                    primary_title                genres  \\\n",
       "0  tt0063540                        Sunghursh    Action,Crime,Drama   \n",
       "1  tt0066787  One Day Before the Rainy Season       Biography,Drama   \n",
       "2  tt0069049       The Other Side of the Wind                 Drama   \n",
       "3  tt0069204                  Sabse Bada Sukh          Comedy,Drama   \n",
       "4  tt0100275         The Wandering Soap Opera  Comedy,Drama,Fantasy   \n",
       "\n",
       "   averagerating  numvotes  \n",
       "0           7.00        77  \n",
       "1           7.20        43  \n",
       "2           6.90      4517  \n",
       "3           6.10        13  \n",
       "4           6.50       119  "
      ]
     },
     "execution_count": 80,
     "metadata": {},
     "output_type": "execute_result"
    }
   ],
   "source": [
    "merged_imdb = pd.read_csv('merged_imdb.csv')\n",
    "df.head()"
   ]
  },
  {
   "cell_type": "code",
   "execution_count": 81,
   "id": "05e4b684-c604-4359-8e80-fe713da8e17f",
   "metadata": {},
   "outputs": [
    {
     "data": {
      "text/plain": [
       "(73856, 5)"
      ]
     },
     "execution_count": 81,
     "metadata": {},
     "output_type": "execute_result"
    }
   ],
   "source": [
    "merged_imdb.shape"
   ]
  },
  {
   "cell_type": "code",
   "execution_count": 82,
   "id": "e0e9842f-de01-4a9e-8f26-3e21d193ed3c",
   "metadata": {},
   "outputs": [
    {
     "data": {
      "text/plain": [
       "movie_id           0\n",
       "primary_title      0\n",
       "genres           804\n",
       "averagerating      0\n",
       "numvotes           0\n",
       "dtype: int64"
      ]
     },
     "execution_count": 82,
     "metadata": {},
     "output_type": "execute_result"
    }
   ],
   "source": [
    "merged_imdb.isnull().sum()"
   ]
  },
  {
   "cell_type": "markdown",
   "id": "b8f166dc-a7f6-4b6b-9055-8c4719584c8e",
   "metadata": {},
   "source": [
    "Only one column has missing values, let's fill for those values."
   ]
  },
  {
   "cell_type": "markdown",
   "id": "6e2f5957-c97c-49d7-9d08-c7695dadb099",
   "metadata": {},
   "source": [
    "Since `genres` has 804 missing values, fill for them with UNK standing for unknown values."
   ]
  },
  {
   "cell_type": "code",
   "execution_count": 83,
   "id": "bd0cd340-1c9a-4cf5-ae9a-015179e5876f",
   "metadata": {},
   "outputs": [],
   "source": [
    "merged_imdb['genres'] = merged_imdb['genres'].fillna('UNK')"
   ]
  },
  {
   "cell_type": "markdown",
   "id": "4556d36a-35cb-424b-a6ed-e9f8c44aa485",
   "metadata": {},
   "source": [
    "let's get rid of the , and | separtors."
   ]
  },
  {
   "cell_type": "code",
   "execution_count": 84,
   "id": "ab7b095e-92e4-4463-a3da-c62e4c02c305",
   "metadata": {},
   "outputs": [],
   "source": [
    "# Split, explode, and clean genres\n",
    "merged_imdb['genres'] = merged_imdb['genres'].str.split(',')\n",
    "merged_imdb= merged_imdb.explode('genres')\n",
    "merged_imdb['genres'] = merged_imdb['genres'].str.strip()\n"
   ]
  },
  {
   "cell_type": "code",
   "execution_count": 85,
   "id": "351c7e7d-f4b9-473a-a80a-60cf59572af1",
   "metadata": {},
   "outputs": [
    {
     "name": "stdout",
     "output_type": "stream",
     "text": [
      "<class 'pandas.core.frame.DataFrame'>\n",
      "RangeIndex: 73856 entries, 0 to 73855\n",
      "Data columns (total 5 columns):\n",
      " #   Column         Non-Null Count  Dtype  \n",
      "---  ------         --------------  -----  \n",
      " 0   movie_id       73856 non-null  object \n",
      " 1   primary_title  73856 non-null  object \n",
      " 2   genres         73052 non-null  object \n",
      " 3   averagerating  73856 non-null  float64\n",
      " 4   numvotes       73856 non-null  int64  \n",
      "dtypes: float64(1), int64(1), object(3)\n",
      "memory usage: 2.8+ MB\n"
     ]
    }
   ],
   "source": [
    "df.info()"
   ]
  },
  {
   "cell_type": "code",
   "execution_count": 86,
   "id": "b9fa52b8-65bd-4f66-bc95-6995866428b3",
   "metadata": {},
   "outputs": [],
   "source": [
    "merged_imdb.to_csv(\"IMDB.csv\", index=False)\n"
   ]
  },
  {
   "cell_type": "code",
   "execution_count": 87,
   "id": "26d5ad07-553d-4a85-9398-f74e9eaf42f3",
   "metadata": {},
   "outputs": [
    {
     "data": {
      "text/html": [
       "<div>\n",
       "<style scoped>\n",
       "    .dataframe tbody tr th:only-of-type {\n",
       "        vertical-align: middle;\n",
       "    }\n",
       "\n",
       "    .dataframe tbody tr th {\n",
       "        vertical-align: top;\n",
       "    }\n",
       "\n",
       "    .dataframe thead th {\n",
       "        text-align: right;\n",
       "    }\n",
       "</style>\n",
       "<table border=\"1\" class=\"dataframe\">\n",
       "  <thead>\n",
       "    <tr style=\"text-align: right;\">\n",
       "      <th></th>\n",
       "      <th>movie_id</th>\n",
       "      <th>primary_title</th>\n",
       "      <th>genres</th>\n",
       "      <th>averagerating</th>\n",
       "      <th>numvotes</th>\n",
       "    </tr>\n",
       "  </thead>\n",
       "  <tbody>\n",
       "    <tr>\n",
       "      <th>0</th>\n",
       "      <td>tt0063540</td>\n",
       "      <td>Sunghursh</td>\n",
       "      <td>Action</td>\n",
       "      <td>7.00</td>\n",
       "      <td>77</td>\n",
       "    </tr>\n",
       "    <tr>\n",
       "      <th>1</th>\n",
       "      <td>tt0063540</td>\n",
       "      <td>Sunghursh</td>\n",
       "      <td>Crime</td>\n",
       "      <td>7.00</td>\n",
       "      <td>77</td>\n",
       "    </tr>\n",
       "    <tr>\n",
       "      <th>2</th>\n",
       "      <td>tt0063540</td>\n",
       "      <td>Sunghursh</td>\n",
       "      <td>Drama</td>\n",
       "      <td>7.00</td>\n",
       "      <td>77</td>\n",
       "    </tr>\n",
       "    <tr>\n",
       "      <th>3</th>\n",
       "      <td>tt0066787</td>\n",
       "      <td>One Day Before the Rainy Season</td>\n",
       "      <td>Biography</td>\n",
       "      <td>7.20</td>\n",
       "      <td>43</td>\n",
       "    </tr>\n",
       "    <tr>\n",
       "      <th>4</th>\n",
       "      <td>tt0066787</td>\n",
       "      <td>One Day Before the Rainy Season</td>\n",
       "      <td>Drama</td>\n",
       "      <td>7.20</td>\n",
       "      <td>43</td>\n",
       "    </tr>\n",
       "  </tbody>\n",
       "</table>\n",
       "</div>"
      ],
      "text/plain": [
       "    movie_id                    primary_title     genres  averagerating  \\\n",
       "0  tt0063540                        Sunghursh     Action           7.00   \n",
       "1  tt0063540                        Sunghursh      Crime           7.00   \n",
       "2  tt0063540                        Sunghursh      Drama           7.00   \n",
       "3  tt0066787  One Day Before the Rainy Season  Biography           7.20   \n",
       "4  tt0066787  One Day Before the Rainy Season      Drama           7.20   \n",
       "\n",
       "   numvotes  \n",
       "0        77  \n",
       "1        77  \n",
       "2        77  \n",
       "3        43  \n",
       "4        43  "
      ]
     },
     "execution_count": 87,
     "metadata": {},
     "output_type": "execute_result"
    }
   ],
   "source": [
    "df = pd.read_csv('IMDB.csv')\n",
    "df.head()"
   ]
  },
  {
   "cell_type": "markdown",
   "id": "43975d87-9362-48de-b44c-b33f22ae1e5f",
   "metadata": {},
   "source": [
    "# 6. EXPLANATORY DATA ANALYSIS"
   ]
  },
  {
   "cell_type": "markdown",
   "id": "a1ce629e-5cb4-4b13-a966-844eb9ab6df3",
   "metadata": {},
   "source": [
    "## 6.1 UNIVARIATE ANALYSIS"
   ]
  },
  {
   "cell_type": "markdown",
   "id": "4a4be378-bdac-4127-b5a7-10f218e93def",
   "metadata": {},
   "source": [
    "### 6.1.1  <U>TOP APPEARING MOVIE GENRES.</U>"
   ]
  },
  {
   "cell_type": "markdown",
   "id": "aee8ca83-0c58-483c-84f7-a18b5b9eecf5",
   "metadata": {},
   "source": [
    "From the `merged_imdb.csv` ,let's get to see the most popular genres."
   ]
  },
  {
   "cell_type": "code",
   "execution_count": 88,
   "id": "14ae432f-bb6a-4a8d-b7b9-241465fc45c6",
   "metadata": {},
   "outputs": [
    {
     "data": {
      "text/plain": [
       "Index(['movie_id', 'primary_title', 'genres', 'averagerating', 'numvotes'], dtype='object')"
      ]
     },
     "execution_count": 88,
     "metadata": {},
     "output_type": "execute_result"
    }
   ],
   "source": [
    "merged_imdb.columns"
   ]
  },
  {
   "cell_type": "code",
   "execution_count": 89,
   "id": "66667e82-5a4c-4bd3-84de-a1dd206cc5ff",
   "metadata": {},
   "outputs": [
    {
     "data": {
      "text/plain": [
       "genres\n",
       "Drama          30788\n",
       "Documentary    17753\n",
       "Comedy         17290\n",
       "Thriller        8217\n",
       "Horror          7674\n",
       "Name: count, dtype: int64"
      ]
     },
     "execution_count": 89,
     "metadata": {},
     "output_type": "execute_result"
    }
   ],
   "source": [
    "genre_counts = merged_imdb['genres'].value_counts().sort_values(ascending=False).nlargest(10)\n",
    "genre_counts.head()"
   ]
  },
  {
   "cell_type": "code",
   "execution_count": 90,
   "id": "5c906e04-a609-46e8-a5ee-4bd50ed2deba",
   "metadata": {},
   "outputs": [
    {
     "data": {
      "text/plain": [
       "genres\n",
       "Drama         23.81\n",
       "Documentary   13.73\n",
       "Comedy        13.37\n",
       "Thriller       6.36\n",
       "Horror         5.94\n",
       "Name: proportion, dtype: float64"
      ]
     },
     "execution_count": 90,
     "metadata": {},
     "output_type": "execute_result"
    }
   ],
   "source": [
    "genres_percentage = merged_imdb['genres'].value_counts(normalize=True) * 100\n",
    "genres_percentage= genres_percentage.round(2)\n",
    "genres_percentage.head()"
   ]
  },
  {
   "cell_type": "code",
   "execution_count": 91,
   "id": "e292a72c-e780-4a0a-8755-50f4ae6b3089",
   "metadata": {},
   "outputs": [
    {
     "data": {
      "image/png": "[encoded data removed]",
      "text/plain": [
       "<Figure size 1200x600 with 1 Axes>"
      ]
     },
     "metadata": {},
     "output_type": "display_data"
    }
   ],
   "source": [
    "plt.figure(figsize=(12, 6))\n",
    "genre_counts.plot(kind='bar', color='skyblue', edgecolor='black')\n",
    "\n",
    "plt.title('Top 10 Movie Genres')\n",
    "plt.xlabel('Genres')\n",
    "plt.ylabel('Number of Movies')\n",
    "plt.xticks(rotation=45, ha='right')\n",
    "plt.tight_layout()\n",
    "plt.grid(axis='y', linestyle='--', alpha=0.7)\n",
    "plt.savefig('Top 10 genres.png', dpi=300, bbox_inches='tight')\n",
    "\n",
    "\n",
    "plt.show()"
   ]
  },
  {
   "cell_type": "markdown",
   "id": "324e6c77-8036-46fd-8c67-4a2bbc71de2b",
   "metadata": {},
   "source": [
    "As you can see from the above visualization, **Drama** is the leading genre covering 23.81% of our data followed by **Documentary**, **Comedy**, **Thriller** and **Horror** having 13.73% , 13.37% , 6.36% and 5.94% respecively. "
   ]
  },
  {
   "cell_type": "markdown",
   "id": "7fbd6153-c402-4f89-9fa8-1cec893e244e",
   "metadata": {},
   "source": [
    "## 6.1.2   <u>DISTRIBUTION OF MOVIE RATINGS</U>"
   ]
  },
  {
   "cell_type": "code",
   "execution_count": 92,
   "id": "5f6a2338-84d7-4cec-aa33-4fab33de4447",
   "metadata": {},
   "outputs": [
    {
     "data": {
      "text/html": [
       "<div>\n",
       "<style scoped>\n",
       "    .dataframe tbody tr th:only-of-type {\n",
       "        vertical-align: middle;\n",
       "    }\n",
       "\n",
       "    .dataframe tbody tr th {\n",
       "        vertical-align: top;\n",
       "    }\n",
       "\n",
       "    .dataframe thead th {\n",
       "        text-align: right;\n",
       "    }\n",
       "</style>\n",
       "<table border=\"1\" class=\"dataframe\">\n",
       "  <thead>\n",
       "    <tr style=\"text-align: right;\">\n",
       "      <th></th>\n",
       "      <th>id</th>\n",
       "      <th>rating</th>\n",
       "      <th>genre</th>\n",
       "      <th>runtime</th>\n",
       "      <th>fresh</th>\n",
       "      <th>top_critic</th>\n",
       "      <th>date</th>\n",
       "    </tr>\n",
       "  </thead>\n",
       "  <tbody>\n",
       "    <tr>\n",
       "      <th>0</th>\n",
       "      <td>3</td>\n",
       "      <td>R</td>\n",
       "      <td>Drama</td>\n",
       "      <td>108.00</td>\n",
       "      <td>fresh</td>\n",
       "      <td>0</td>\n",
       "      <td>2018-11-10</td>\n",
       "    </tr>\n",
       "    <tr>\n",
       "      <th>1</th>\n",
       "      <td>3</td>\n",
       "      <td>R</td>\n",
       "      <td>Science Fiction and Fantasy</td>\n",
       "      <td>108.00</td>\n",
       "      <td>fresh</td>\n",
       "      <td>0</td>\n",
       "      <td>2018-11-10</td>\n",
       "    </tr>\n",
       "    <tr>\n",
       "      <th>2</th>\n",
       "      <td>3</td>\n",
       "      <td>R</td>\n",
       "      <td>Drama</td>\n",
       "      <td>108.00</td>\n",
       "      <td>rotten</td>\n",
       "      <td>0</td>\n",
       "      <td>2018-05-23</td>\n",
       "    </tr>\n",
       "  </tbody>\n",
       "</table>\n",
       "</div>"
      ],
      "text/plain": [
       "   id rating                        genre  runtime   fresh  top_critic  \\\n",
       "0   3      R                        Drama   108.00   fresh           0   \n",
       "1   3      R  Science Fiction and Fantasy   108.00   fresh           0   \n",
       "2   3      R                        Drama   108.00  rotten           0   \n",
       "\n",
       "         date  \n",
       "0  2018-11-10  \n",
       "1  2018-11-10  \n",
       "2  2018-05-23  "
      ]
     },
     "execution_count": 92,
     "metadata": {},
     "output_type": "execute_result"
    }
   ],
   "source": [
    "info = pd.read_csv(\"mergedinfo_reviews.csv\")\n",
    "info.head(3)"
   ]
  },
  {
   "cell_type": "code",
   "execution_count": 93,
   "id": "0f9230b1-d218-4f73-b77b-1291e95518fa",
   "metadata": {},
   "outputs": [
    {
     "data": {
      "image/png": "[encoded data removed]",
      "text/plain": [
       "<Figure size 800x800 with 1 Axes>"
      ]
     },
     "metadata": {},
     "output_type": "display_data"
    }
   ],
   "source": [
    "rating_counts = info['rating'].value_counts()\n",
    "plt.figure(figsize=(8, 8))\n",
    "plt.pie(rating_counts, labels=rating_counts.index, autopct='%1.1f%%',labeldistance=0.8, startangle=140)\n",
    "plt.title('Distribution of Movie Ratings')\n",
    "plt.axis('equal')  # Ensures pie is a circle\n",
    "plt.show()"
   ]
  },
  {
   "cell_type": "markdown",
   "id": "2a434ecf-ad7f-48be-8a5e-941167ab8d86",
   "metadata": {},
   "source": [
    "* **R** stands for (Restricted) which is consitutes 42.0%\n",
    "This movies are restricted to viewers of a certain age (17 and above)\n",
    "* **PG-13** (parents strongly cautioned) which is 31.6%\n",
    "Some material may be inappropriate for children under 13\n",
    "* **PG** (parental guidance) consitutes 18.1%\n",
    "Some material may not be suitable for children.\n",
    "* **NR** (not rated) - 5.4%\n",
    "These films haven't been submitted for an official rating by the MPAA.\n",
    "* **G** (General audience) - 2.9%\n",
    "Suitable for all ages.\n",
    "\n",
    "What we can deduce is that the studio produce more R-rated and PG-13 films so they can capture a large adult and teen audience.Their is very limited investment in G-rated films as it only covers 2.9% of the movies.An investment in PG-13 films will give us a broad audience,while investing in R-rated films gives us a creative flexiblity because of the targeted age group and a niche appeal to the consumers.\n"
   ]
  },
  {
   "cell_type": "markdown",
   "id": "4ba17a25-b207-4e8f-a251-f4db3d197197",
   "metadata": {},
   "source": [
    "## 6.2 BIVARIATE ANALYSIS"
   ]
  },
  {
   "cell_type": "markdown",
   "id": "20ee8488-8217-4a49-9ace-72dcff216753",
   "metadata": {},
   "source": [
    "## 6.2.1 <U>STUDIOS' WITH HIGHEST PRODUCTION BUDGET</U>"
   ]
  },
  {
   "cell_type": "markdown",
   "id": "030bc4c6-29db-45e5-9e44-3d11a1b12510",
   "metadata": {},
   "source": [
    "We'll be trying to analyze the studio's with the highest production budget and highest grossing both domestic and foriegn gross.Inorder to do this we will use the `mergedbom_budgets.csv`"
   ]
  },
  {
   "cell_type": "code",
   "execution_count": 94,
   "id": "ee99015e-8a04-4702-999d-33661d9e8023",
   "metadata": {},
   "outputs": [],
   "source": [
    "budget = pd.read_csv('mergedbom_budgets.csv')"
   ]
  },
  {
   "cell_type": "code",
   "execution_count": 95,
   "id": "ba87a74e-d3f2-4497-a6cb-896792e86a28",
   "metadata": {},
   "outputs": [
    {
     "data": {
      "text/plain": [
       "Index(['id', 'release_date', 'movie', 'production_budget', 'domestic_gross_x',\n",
       "       'worldwide_gross', 'studio', 'foreign_gross_estimate', 'gross_profit'],\n",
       "      dtype='object')"
      ]
     },
     "execution_count": 95,
     "metadata": {},
     "output_type": "execute_result"
    }
   ],
   "source": [
    "budget.columns"
   ]
  },
  {
   "cell_type": "code",
   "execution_count": 96,
   "id": "1e9ae92c-0cd8-4f8a-91f0-7483f4f2a799",
   "metadata": {},
   "outputs": [
    {
     "data": {
      "text/plain": [
       "id                        0\n",
       "release_date              0\n",
       "movie                     0\n",
       "production_budget         0\n",
       "domestic_gross_x          0\n",
       "worldwide_gross           0\n",
       "studio                    0\n",
       "foreign_gross_estimate    0\n",
       "gross_profit              0\n",
       "dtype: int64"
      ]
     },
     "execution_count": 96,
     "metadata": {},
     "output_type": "execute_result"
    }
   ],
   "source": [
    "budget.isnull().sum()"
   ]
  },
  {
   "cell_type": "code",
   "execution_count": 97,
   "id": "6c86b2ff-d2f8-4fa1-948e-3fd070003353",
   "metadata": {},
   "outputs": [
    {
     "data": {
      "text/plain": [
       "studio\n",
       "UNK    124046756509.00\n",
       "BV       9450800000.00\n",
       "WB       8197700000.00\n",
       "FOX      7755500000.00\n",
       "UNI.     6597700000.00\n",
       "Name: production_budget, dtype: float64"
      ]
     },
     "execution_count": 97,
     "metadata": {},
     "output_type": "execute_result"
    }
   ],
   "source": [
    "studio_budget = budget.groupby('studio')['production_budget'].sum().sort_values(ascending=False)\n",
    "studio_budget.head()"
   ]
  },
  {
   "cell_type": "code",
   "execution_count": 98,
   "id": "5e6f135d-f3f8-415c-b3ce-3e348843c6ed",
   "metadata": {},
   "outputs": [
    {
     "name": "stdout",
     "output_type": "stream",
     "text": [
      "studio\n",
      "UNK    67.92\n",
      "BV      5.17\n",
      "WB      4.49\n",
      "FOX     4.25\n",
      "UNI.    3.61\n",
      "Name: production_budget, dtype: float64\n"
     ]
    }
   ],
   "source": [
    "# Calculate total budget\n",
    "total_budget = studio_budget.sum()\n",
    "# Convert to percentage\n",
    "production_budget_pct = (studio_budget / total_budget * 100).round(2)\n",
    "# Show top 5 with percentage\n",
    "print(production_budget_pct.head())\n"
   ]
  },
  {
   "cell_type": "code",
   "execution_count": 99,
   "id": "7df10d30-aa37-4dbd-83ee-cf3f11616d10",
   "metadata": {},
   "outputs": [
    {
     "data": {
      "image/png": "[encoded data removed]",
      "text/plain": [
       "<Figure size 1200x600 with 1 Axes>"
      ]
     },
     "metadata": {},
     "output_type": "display_data"
    }
   ],
   "source": [
    "top_studios = studio_budget.nlargest(10)\n",
    "\n",
    "# Plot\n",
    "plt.figure(figsize=(12, 6))\n",
    "sns.barplot(x=top_studios.index, y=top_studios.values, color='lightgreen')\n",
    "\n",
    "plt.xticks(rotation=45, ha='right')\n",
    "plt.title('Top 10 studios with highest production budget')\n",
    "plt.xlabel('Studio')\n",
    "plt.ylabel('production budget')\n",
    "plt.tight_layout()\n",
    "plt.show()\n"
   ]
  },
  {
   "cell_type": "markdown",
   "id": "91b08cd7-6580-44c1-93ae-8ebbf5be59ae",
   "metadata": {},
   "source": [
    "## **TOP 5 STUDIOS**\n",
    "\n",
    "* UNK-this means the data is unspecified.\n",
    "* BV(Buena Vista) is  a distribution label for Walt Disney Studios Motion Pictures.\n",
    "* UNI. is a shorthand for Universal Pictures.\n",
    "* FOX refers to 20th Century Fox, which was acquired by Disney in 2019.\n",
    "* WB is short for Warner Bros.\n",
    "\n",
    "Ignoring the UNKNOWN studio,Let's focuse on the other top 5 studios.Therefore the Studio with the highest budget is **BUENA VISTA(BV)** which has allocates a budget of **9,450,800,000**  to it's movie production.\n",
    "This is followed closely with **WARNER BROS** studio with **8,197,700,000** then the **20th CENTURY FOX** with a budget of **7,755,500,000** and then **UNIVERSAL PICTURES** with a budget of **6,597,700,000**.\n",
    "\n",
    "This doesn't give us a correct analysis of the studio with the highest budget because**124,046,756,509** is unaccounted for in the `UNKNOWN` column and this consitutes **67.2%** of the data.But it will help us analyze if a higher production budget translates to gross and  a higher return on profit.\n"
   ]
  },
  {
   "cell_type": "markdown",
   "id": "b43f7369-2cc7-491a-ac98-534e3c28ed77",
   "metadata": {},
   "source": [
    "## 6.2.2 <U>RELATIONSHIP BETWEEN PRODUCTION BUDGET AND WORLDWIDE GROSS</U>"
   ]
  },
  {
   "cell_type": "code",
   "execution_count": 100,
   "id": "f99ad361-78a3-4fc8-b967-54357aef75dc",
   "metadata": {},
   "outputs": [
    {
     "data": {
      "image/png": "[encoded data removed]",
      "text/plain": [
       "<Figure size 1000x600 with 1 Axes>"
      ]
     },
     "metadata": {},
     "output_type": "display_data"
    }
   ],
   "source": [
    "plt.figure(figsize=(10, 6))\n",
    "plt.scatter(budget['production_budget'], budget['worldwide_gross'], alpha=0.6, color='orchid')\n",
    "\n",
    "plt.title('Production Budget vs Worldwide Gross')\n",
    "plt.xlabel('Production Budget')\n",
    "plt.ylabel('Worldwide Gross')\n",
    "plt.tight_layout()\n",
    "plt.savefig('production vs gross.png', dpi=300, bbox_inches='tight')\n",
    "plt.show()\n"
   ]
  },
  {
   "cell_type": "markdown",
   "id": "74fff107-fcd5-42ac-a4cb-8a8dcb4fe87d",
   "metadata": {},
   "source": [
    "The relationship between Worldwide gross and production Budget is positive correlation because there is a visible upward trend as there is an increase in production there is also a increase in the worldwide gross.Low production budget are clustered together with moderate  grossings while higher production budget are more spread some returning more than others(outliers).\n",
    "\n",
    "This doesn't mean the more you spend more on movie production the more the grossing even though they are some exceptions **(ouliers)** but this means there is a potential in higher production budget. **The relationship is not linear** because they are other factors that might affect the movie grossing or how well a movie does e.g Release date , cast etc. not just the production budget."
   ]
  },
  {
   "cell_type": "markdown",
   "id": "c52f0c18-98f2-43c3-bff4-3cee2876cfd2",
   "metadata": {},
   "source": [
    "## 6.2.3 <U>PROBABILITY DISTRIBUTION</u>"
   ]
  },
  {
   "cell_type": "markdown",
   "id": "baa942f8-eab0-4d9d-9805-451193f07d52",
   "metadata": {},
   "source": [
    "We want to find out the returns the studio make after factoring out the budget spent on the movie.Inorder to know how really profitable the movie industry is or do they make losses and by how much."
   ]
  },
  {
   "cell_type": "code",
   "execution_count": 101,
   "id": "3fc8d1d3-7ca6-4f8d-b11d-2c10f39dd533",
   "metadata": {},
   "outputs": [],
   "source": [
    "budget['gross_profit'] = budget['worldwide_gross'] - budget['production_budget']\n"
   ]
  },
  {
   "cell_type": "code",
   "execution_count": 102,
   "id": "ef0a9e28-707f-4fbb-86b0-efbe694d4cb7",
   "metadata": {},
   "outputs": [
    {
     "data": {
      "image/png": "[encoded data removed]",
      "text/plain": [
       "<Figure size 1000x600 with 1 Axes>"
      ]
     },
     "metadata": {},
     "output_type": "display_data"
    }
   ],
   "source": [
    "#plot\n",
    "plt.figure(figsize=(10,6))\n",
    "sns.histplot(budget['gross_profit'], bins=50, kde=True, color='seagreen')\n",
    "plt.title('Profitability Distribution')\n",
    "plt.xlabel('Profit (Worldwide Gross - Production Budget)')\n",
    "plt.ylabel('Number of Movies')\n",
    "plt.axvline(x=0, color='red', linestyle='--', label='Break-even line')\n",
    "plt.legend()\n",
    "plt.tight_layout()\n",
    "plt.show()\n"
   ]
  },
  {
   "cell_type": "markdown",
   "id": "dfebb7f7-7165-4f56-8447-6c5d8ae393e7",
   "metadata": {},
   "source": [
    "The visualization is a right-skewed graph.This means that most of the movies make small profits or losses,this is because the data is clustered around the 0.0 profit mark.The long tail to the right shows that a small number of movies make huge profits,likely representing blockbuster hits which are the exceptions(outliers).\n",
    "\n",
    "Majority of the movies make negative profits and this is due to the high-risk nature of the movie industry because most movies are either a hit or a miss."
   ]
  },
  {
   "cell_type": "markdown",
   "id": "579538c8-641a-42be-8352-70ed44b60b72",
   "metadata": {},
   "source": [
    "Instead of shying away from investment let's do more analysis on the genres that have high rating to know the most popular and the one's majority of people can term as **HITS**."
   ]
  },
  {
   "cell_type": "markdown",
   "id": "e118eebf-f521-41f3-ab4d-a36c2247f5c1",
   "metadata": {},
   "source": [
    "## 6.2.4 <U>TOP GENRES BY AVERAGE RATING</u>"
   ]
  },
  {
   "cell_type": "code",
   "execution_count": 103,
   "id": "95d33450-a02f-4816-b845-52e00bd697ab",
   "metadata": {},
   "outputs": [
    {
     "name": "stdout",
     "output_type": "stream",
     "text": [
      "genres\n",
      "Short         8.80\n",
      "Documentary   7.33\n",
      "Game-Show     7.30\n",
      "News          7.27\n",
      "Biography     7.16\n",
      "Music         7.09\n",
      "History       7.04\n",
      "Sport         6.96\n",
      "War           6.58\n",
      "Reality-TV    6.50\n",
      "Musical       6.50\n",
      "UNK           6.50\n",
      "Drama         6.40\n",
      "Family        6.39\n",
      "Animation     6.25\n",
      "Adventure     6.20\n",
      "Romance       6.15\n",
      "Crime         6.12\n",
      "Comedy        6.00\n",
      "Mystery       5.92\n",
      "Name: averagerating, dtype: float64\n",
      "genres\n",
      "Action     5.81\n",
      "Thriller   5.64\n",
      "Sci-Fi     5.49\n",
      "Horror     5.00\n",
      "Adult      3.77\n",
      "Name: averagerating, dtype: float64\n"
     ]
    }
   ],
   "source": [
    "genre_rating = merged_imdb.groupby('genres')['averagerating'].mean().sort_values(ascending=False)\n",
    "print(genre_rating.head(20))\n",
    "print(genre_rating.tail())"
   ]
  },
  {
   "cell_type": "code",
   "execution_count": 104,
   "id": "27181dff-c514-44e8-8022-2fc5a42db91e",
   "metadata": {},
   "outputs": [
    {
     "name": "stderr",
     "output_type": "stream",
     "text": [
      "C:\\Users\\USER\\AppData\\Local\\Temp\\ipykernel_14936\\1444096871.py:3: FutureWarning: \n",
      "\n",
      "Passing `palette` without assigning `hue` is deprecated and will be removed in v0.14.0. Assign the `y` variable to `hue` and set `legend=False` for the same effect.\n",
      "\n",
      "  sns.barplot(x=genre_rating.head(10).values, y=genre_rating.head(10).index, palette='viridis')\n"
     ]
    },
    {
     "data": {
      "image/png": "[encoded data removed]",
      "text/plain": [
       "<Figure size 1000x600 with 1 Axes>"
      ]
     },
     "metadata": {},
     "output_type": "display_data"
    }
   ],
   "source": [
    "# Plot top 10 genres\n",
    "plt.figure(figsize=(10,6))\n",
    "sns.barplot(x=genre_rating.head(10).values, y=genre_rating.head(10).index, palette='viridis')\n",
    "plt.title('Top 10 Genres by Average Rating')\n",
    "plt.xlabel('Average Rating')\n",
    "plt.ylabel('Genre')\n",
    "plt.tight_layout()\n",
    "plt.show()\n"
   ]
  },
  {
   "cell_type": "markdown",
   "id": "bb888e3c-38a4-4b59-9d22-4ebaae28d95a",
   "metadata": {},
   "source": [
    "Average rating is not enough to decide the genre to invest in because we didn't factor in the number of votes those genres recieved.Let's do further analysis to determine the genre with the most votes but are also highly rated."
   ]
  },
  {
   "cell_type": "markdown",
   "id": "bd941dce-5b20-4b78-a90e-abbff5cbed5a",
   "metadata": {},
   "source": [
    "## 6.2.5 <U>TOP GENRES BY NUMBER OF VOTES</u>"
   ]
  },
  {
   "cell_type": "code",
   "execution_count": 105,
   "id": "500ce0f9-a372-4ce4-9e5f-7c9f6bca790d",
   "metadata": {},
   "outputs": [],
   "source": [
    "votes_per_genre = merged_imdb.groupby('genres')['numvotes'].sum().sort_values(ascending=False)"
   ]
  },
  {
   "cell_type": "code",
   "execution_count": 106,
   "id": "d8a8930b-122a-4d89-a6dd-f2850c05435c",
   "metadata": {},
   "outputs": [],
   "source": [
    "# Total votes across all genres\n",
    "total_votes = votes_per_genre.sum()\n",
    "# Calculate percentage per genre\n",
    "votes_percentage = (votes_per_genre / total_votes * 100).round(2)"
   ]
  },
  {
   "cell_type": "code",
   "execution_count": 107,
   "id": "5903d246-1f60-4452-974d-8be5071be1e6",
   "metadata": {},
   "outputs": [
    {
     "name": "stdout",
     "output_type": "stream",
     "text": [
      "genres\n",
      "Drama       17.43\n",
      "Action      14.75\n",
      "Adventure   12.28\n",
      "Comedy      10.83\n",
      "Thriller     7.02\n",
      "Sci-Fi       6.26\n",
      "Crime        5.78\n",
      "Romance      3.92\n",
      "Fantasy      3.84\n",
      "Mystery      3.60\n",
      "Name: numvotes, dtype: float64\n",
      "genres\n",
      "UNK          0.00\n",
      "Game-Show    0.00\n",
      "Reality-TV   0.00\n",
      "Adult        0.00\n",
      "Short        0.00\n",
      "Name: numvotes, dtype: float64\n"
     ]
    }
   ],
   "source": [
    "print(votes_percentage.head(10))\n",
    "print(votes_percentage.tail())"
   ]
  },
  {
   "cell_type": "code",
   "execution_count": 108,
   "id": "bd1c96ce-4bd8-4669-b7e3-28dcb40f495f",
   "metadata": {},
   "outputs": [
    {
     "data": {
      "image/png": "[encoded data removed]",
      "text/plain": [
       "<Figure size 1000x600 with 1 Axes>"
      ]
     },
     "metadata": {},
     "output_type": "display_data"
    }
   ],
   "source": [
    "plt.figure(figsize=(10,6))\n",
    "sns.barplot(x=votes_per_genre.head(10).values, y=votes_per_genre.head(10).index, color='crimson')\n",
    "plt.title('Top 10 Genres voted by fans')\n",
    "plt.xlabel('NUMBER OF VOTES')\n",
    "plt.ylabel('Genre')\n",
    "plt.tight_layout()\n",
    "plt.show()"
   ]
  },
  {
   "cell_type": "markdown",
   "id": "037f2ae9-e4ec-4538-992c-74a5b11bfafe",
   "metadata": {},
   "source": [
    "Genres like Short have percentage of 0.01% of the the votes but the highest average rating of **8.8** this is why Average rating alone is not the surest way of measuring for popularity and fan favorites.Similar to news and Reality Tv with a **0.14%** and **0.4%** percentage of votes but an average rating of **7.27** and **6.5** respectively.And also number of votes is not enough to judge for popularity for example the genre Action recieved **14.74%** of the votes but a **5.81** rating which is low than other genres."
   ]
  },
  {
   "cell_type": "markdown",
   "id": "f0018f84-1550-48f7-9a6f-64d3f78de29a",
   "metadata": {},
   "source": [
    "## 6.2.6 <U>TOP POPULAR GENRES BY AVERAGE RATING</u>"
   ]
  },
  {
   "cell_type": "markdown",
   "id": "67885218-ad85-4ef8-80f5-a292e346067e",
   "metadata": {},
   "source": [
    "let's get a list of this genre with the most number of votes and continue by getting their average rating."
   ]
  },
  {
   "cell_type": "code",
   "execution_count": 109,
   "id": "f77d4551-9bcc-4f90-bd30-d7bdfcb8c909",
   "metadata": {},
   "outputs": [],
   "source": [
    "# top genres by number of votes\n",
    "top_genres = votes_per_genre.head(10).index.tolist()\n",
    "# Filter original data for only those top genres\n",
    "filtered_df = merged_imdb[merged_imdb['genres'].isin(top_genres)]\n",
    "# Group by genre and calculate average rating\n",
    "top_genre_ratings = filtered_df.groupby('genres')['averagerating'].mean().sort_values(ascending=False)"
   ]
  },
  {
   "cell_type": "code",
   "execution_count": 110,
   "id": "574ad7fc-9a34-4a23-bd33-cea6fde5d688",
   "metadata": {},
   "outputs": [
    {
     "data": {
      "image/png": "[encoded data removed]",
      "text/plain": [
       "<Figure size 1000x600 with 1 Axes>"
      ]
     },
     "metadata": {},
     "output_type": "display_data"
    }
   ],
   "source": [
    "# Plot\n",
    "plt.figure(figsize=(10,6))\n",
    "sns.barplot(x=top_genre_ratings.values, y=top_genre_ratings.index, color='tomato')\n",
    "plt.title('Average Ratings of Top Genres by Number of Votes')\n",
    "plt.xlabel('Average Rating')\n",
    "plt.ylabel('Genre')\n",
    "plt.tight_layout()\n",
    "plt.savefig('top popular genres.png', dpi=300, bbox_inches='tight')\n",
    "plt.show()"
   ]
  },
  {
   "cell_type": "markdown",
   "id": "b7b4facf-d535-472d-af45-243fb22861b3",
   "metadata": {},
   "source": [
    "## Top 5 popular genre\n",
    "From that analysis we can advice investors to invest in the following genres:\n",
    "* **Drama** which has the a percentage of votes **17.43%** of the votes and an overral average rating of **6.4**.\n",
    "* **Adventure** which has the 2nd highest percentage of votes **14.75%** of the votes and overrall rating of **6.2** which is above average\n",
    "* **Romance** has a  3rd highest percentage of the votes **3.92** and an average rating of **6.15**\n",
    "* **Crime** has a **5.78** of votes and an average rating of **6.12**\n",
    "* **Mystery** with a percentage of **3.60%** of votes and an average rating of **5.92**\n",
    "\n",
    "# NOTE:  **This gives us a balance between genres that are mostly watched and also have a good rating because both factors are important in deciding what genre to invest it in the long run.**"
   ]
  },
  {
   "cell_type": "markdown",
   "id": "d0789c69-4582-4447-9670-dc207c18f9fa",
   "metadata": {},
   "source": [
    "# 6.3 MULTIVARIATE ANALYSIS"
   ]
  },
  {
   "cell_type": "markdown",
   "id": "4c99bcbd-c967-4583-b1fa-ccd7d763fe9d",
   "metadata": {},
   "source": [
    "## 6.3.1 <u>COMPARE FRESH AND ROTTEN RATING BY GENRE</U>"
   ]
  },
  {
   "cell_type": "markdown",
   "id": "7d9d86d5-1ab6-46b9-b223-1925f01c5f1b",
   "metadata": {},
   "source": [
    "Let's analyse the genre with great ratings using the dataset `mergedinfo_reviews.csv`."
   ]
  },
  {
   "cell_type": "code",
   "execution_count": 111,
   "id": "06a291a4-deb5-486d-8d8b-17e99c8c26eb",
   "metadata": {},
   "outputs": [
    {
     "data": {
      "text/plain": [
       "Index(['movie_id', 'primary_title', 'genres', 'averagerating', 'numvotes'], dtype='object')"
      ]
     },
     "execution_count": 111,
     "metadata": {},
     "output_type": "execute_result"
    }
   ],
   "source": [
    "df.columns"
   ]
  },
  {
   "cell_type": "code",
   "execution_count": 112,
   "id": "53b727ee-e045-4f2b-89ed-6579baa687ad",
   "metadata": {},
   "outputs": [],
   "source": [
    "df =pd.read_csv('mergedinfo_reviews.csv')"
   ]
  },
  {
   "cell_type": "code",
   "execution_count": 113,
   "id": "8b23399b-1e78-46bd-8424-9a79de9ca540",
   "metadata": {},
   "outputs": [],
   "source": [
    "df['genre'] = df['genre'].str.split(',')\n",
    "df= df.explode('genre')\n",
    "df['genre'] = df['genre'].str.strip()"
   ]
  },
  {
   "cell_type": "code",
   "execution_count": 114,
   "id": "3e0a4418-6933-4c28-8c20-c5db16e49968",
   "metadata": {},
   "outputs": [
    {
     "data": {
      "text/html": [
       "<div>\n",
       "<style scoped>\n",
       "    .dataframe tbody tr th:only-of-type {\n",
       "        vertical-align: middle;\n",
       "    }\n",
       "\n",
       "    .dataframe tbody tr th {\n",
       "        vertical-align: top;\n",
       "    }\n",
       "\n",
       "    .dataframe thead th {\n",
       "        text-align: right;\n",
       "    }\n",
       "</style>\n",
       "<table border=\"1\" class=\"dataframe\">\n",
       "  <thead>\n",
       "    <tr style=\"text-align: right;\">\n",
       "      <th></th>\n",
       "      <th>genre</th>\n",
       "      <th>fresh</th>\n",
       "      <th>count</th>\n",
       "    </tr>\n",
       "  </thead>\n",
       "  <tbody>\n",
       "    <tr>\n",
       "      <th>16</th>\n",
       "      <td>Drama</td>\n",
       "      <td>fresh</td>\n",
       "      <td>21945</td>\n",
       "    </tr>\n",
       "    <tr>\n",
       "      <th>10</th>\n",
       "      <td>Comedy</td>\n",
       "      <td>fresh</td>\n",
       "      <td>12880</td>\n",
       "    </tr>\n",
       "    <tr>\n",
       "      <th>17</th>\n",
       "      <td>Drama</td>\n",
       "      <td>rotten</td>\n",
       "      <td>11659</td>\n",
       "    </tr>\n",
       "    <tr>\n",
       "      <th>11</th>\n",
       "      <td>Comedy</td>\n",
       "      <td>rotten</td>\n",
       "      <td>8922</td>\n",
       "    </tr>\n",
       "    <tr>\n",
       "      <th>0</th>\n",
       "      <td>Action and Adventure</td>\n",
       "      <td>fresh</td>\n",
       "      <td>7334</td>\n",
       "    </tr>\n",
       "  </tbody>\n",
       "</table>\n",
       "</div>"
      ],
      "text/plain": [
       "                   genre   fresh  count\n",
       "16                 Drama   fresh  21945\n",
       "10                Comedy   fresh  12880\n",
       "17                 Drama  rotten  11659\n",
       "11                Comedy  rotten   8922\n",
       "0   Action and Adventure   fresh   7334"
      ]
     },
     "execution_count": 114,
     "metadata": {},
     "output_type": "execute_result"
    }
   ],
   "source": [
    "genre_fresh_counts = df.groupby(['genre', 'fresh']).size().reset_index(name='count')\n",
    "genre_fresh_counts = genre_fresh_counts.sort_values(by='count', ascending=False)\n",
    "genre_fresh_counts.head()"
   ]
  },
  {
   "cell_type": "code",
   "execution_count": 115,
   "id": "eeb88274-5806-4a29-b79a-4be243b4428b",
   "metadata": {},
   "outputs": [
    {
     "data": {
      "image/png": "[encoded data removed]",
      "text/plain": [
       "<Figure size 1400x700 with 1 Axes>"
      ]
     },
     "metadata": {},
     "output_type": "display_data"
    }
   ],
   "source": [
    "plt.figure(figsize=(14, 7))\n",
    "sns.barplot(data=genre_fresh_counts, x='genre', y='count', hue='fresh')\n",
    "\n",
    "plt.title('Fresh vs Rotten Reviews per Genre')\n",
    "plt.xlabel('Genre')\n",
    "plt.ylabel('Number of Reviews')\n",
    "plt.xticks(rotation=45, ha='right')\n",
    "plt.tight_layout()\n",
    "plt.show()"
   ]
  },
  {
   "cell_type": "markdown",
   "id": "d2a1419b-b540-4198-be64-363a4ad78c48",
   "metadata": {},
   "source": [
    "# High_review genres:\n",
    "**Drama** has the highest number of reviews overall.It has  more fresh than rotten reviews we can say it was generally well-received.\n",
    "Comedy and Action and Adventure have a high total review counts after **Drama** and they both have slightly more fresh than rotten, but with a smaller gap compared to Drama.\n",
    "Genres like Romance, Sci-Fi and Fantasy, and Horror also get decent review volumes.\n",
    "# Low-review genres:\n",
    "Genres on the far right (e.g., **Gay and Lesbian, Cult Movies, Anime and Manga**) have very few reviews.\n",
    "This could indicate niche audiences or fewer total films reviewed in these genres."
   ]
  },
  {
   "cell_type": "markdown",
   "id": "9ca8d70f-bd2e-49b3-8770-c80e306bde5f",
   "metadata": {},
   "source": [
    "## 6.3.2  <u>DOMESTIC GROSS AND FORIEGN GROSS OVER THE YEARS</U>"
   ]
  },
  {
   "cell_type": "code",
   "execution_count": 116,
   "id": "73493132-3f71-4be4-bf22-b2a5a819651d",
   "metadata": {},
   "outputs": [
    {
     "data": {
      "text/plain": [
       "Index(['id', 'release_date', 'movie', 'production_budget', 'domestic_gross_x',\n",
       "       'worldwide_gross', 'studio', 'foreign_gross_estimate', 'gross_profit'],\n",
       "      dtype='object')"
      ]
     },
     "execution_count": 116,
     "metadata": {},
     "output_type": "execute_result"
    }
   ],
   "source": [
    "budget.columns"
   ]
  },
  {
   "cell_type": "markdown",
   "id": "921af514-2337-4c8c-a5db-038639cc08c7",
   "metadata": {},
   "source": [
    "let's get to analyse the trend that domestic gross and foriegn gross has had over the years so that we can know  the markets over the years."
   ]
  },
  {
   "cell_type": "code",
   "execution_count": 117,
   "id": "9accdba8-189c-4df9-b9a8-5a3832ba49fd",
   "metadata": {},
   "outputs": [
    {
     "data": {
      "text/html": [
       "<div>\n",
       "<style scoped>\n",
       "    .dataframe tbody tr th:only-of-type {\n",
       "        vertical-align: middle;\n",
       "    }\n",
       "\n",
       "    .dataframe tbody tr th {\n",
       "        vertical-align: top;\n",
       "    }\n",
       "\n",
       "    .dataframe thead th {\n",
       "        text-align: right;\n",
       "    }\n",
       "</style>\n",
       "<table border=\"1\" class=\"dataframe\">\n",
       "  <thead>\n",
       "    <tr style=\"text-align: right;\">\n",
       "      <th></th>\n",
       "      <th>id</th>\n",
       "      <th>release_date</th>\n",
       "      <th>movie</th>\n",
       "      <th>production_budget</th>\n",
       "      <th>domestic_gross_x</th>\n",
       "      <th>worldwide_gross</th>\n",
       "      <th>studio</th>\n",
       "      <th>foreign_gross_estimate</th>\n",
       "      <th>gross_profit</th>\n",
       "    </tr>\n",
       "  </thead>\n",
       "  <tbody>\n",
       "    <tr>\n",
       "      <th>0</th>\n",
       "      <td>1</td>\n",
       "      <td>2009-12-18</td>\n",
       "      <td>Avatar</td>\n",
       "      <td>425000000.00</td>\n",
       "      <td>760507625.00</td>\n",
       "      <td>2776345279.00</td>\n",
       "      <td>UNK</td>\n",
       "      <td>2015837654.00</td>\n",
       "      <td>2351345279.00</td>\n",
       "    </tr>\n",
       "    <tr>\n",
       "      <th>1</th>\n",
       "      <td>2</td>\n",
       "      <td>2011-05-20</td>\n",
       "      <td>Pirates of the Caribbean: On Stranger Tides</td>\n",
       "      <td>410600000.00</td>\n",
       "      <td>241063875.00</td>\n",
       "      <td>1045663875.00</td>\n",
       "      <td>BV</td>\n",
       "      <td>804600000.00</td>\n",
       "      <td>635063875.00</td>\n",
       "    </tr>\n",
       "    <tr>\n",
       "      <th>2</th>\n",
       "      <td>3</td>\n",
       "      <td>2019-06-07</td>\n",
       "      <td>Dark Phoenix</td>\n",
       "      <td>350000000.00</td>\n",
       "      <td>42762350.00</td>\n",
       "      <td>149762350.00</td>\n",
       "      <td>UNK</td>\n",
       "      <td>107000000.00</td>\n",
       "      <td>-200237650.00</td>\n",
       "    </tr>\n",
       "    <tr>\n",
       "      <th>3</th>\n",
       "      <td>4</td>\n",
       "      <td>2015-05-01</td>\n",
       "      <td>Avengers: Age of Ultron</td>\n",
       "      <td>330600000.00</td>\n",
       "      <td>459005868.00</td>\n",
       "      <td>1403013963.00</td>\n",
       "      <td>BV</td>\n",
       "      <td>944008095.00</td>\n",
       "      <td>1072413963.00</td>\n",
       "    </tr>\n",
       "    <tr>\n",
       "      <th>4</th>\n",
       "      <td>5</td>\n",
       "      <td>2017-12-15</td>\n",
       "      <td>Star Wars Ep. VIII: The Last Jedi</td>\n",
       "      <td>317000000.00</td>\n",
       "      <td>620181382.00</td>\n",
       "      <td>1316721747.00</td>\n",
       "      <td>UNK</td>\n",
       "      <td>696540365.00</td>\n",
       "      <td>999721747.00</td>\n",
       "    </tr>\n",
       "  </tbody>\n",
       "</table>\n",
       "</div>"
      ],
      "text/plain": [
       "   id release_date                                        movie  \\\n",
       "0   1   2009-12-18                                       Avatar   \n",
       "1   2   2011-05-20  Pirates of the Caribbean: On Stranger Tides   \n",
       "2   3   2019-06-07                                 Dark Phoenix   \n",
       "3   4   2015-05-01                      Avengers: Age of Ultron   \n",
       "4   5   2017-12-15            Star Wars Ep. VIII: The Last Jedi   \n",
       "\n",
       "   production_budget  domestic_gross_x  worldwide_gross studio  \\\n",
       "0       425000000.00      760507625.00    2776345279.00    UNK   \n",
       "1       410600000.00      241063875.00    1045663875.00     BV   \n",
       "2       350000000.00       42762350.00     149762350.00    UNK   \n",
       "3       330600000.00      459005868.00    1403013963.00     BV   \n",
       "4       317000000.00      620181382.00    1316721747.00    UNK   \n",
       "\n",
       "   foreign_gross_estimate  gross_profit  \n",
       "0           2015837654.00 2351345279.00  \n",
       "1            804600000.00  635063875.00  \n",
       "2            107000000.00 -200237650.00  \n",
       "3            944008095.00 1072413963.00  \n",
       "4            696540365.00  999721747.00  "
      ]
     },
     "execution_count": 117,
     "metadata": {},
     "output_type": "execute_result"
    }
   ],
   "source": [
    "budget.head()"
   ]
  },
  {
   "cell_type": "code",
   "execution_count": 118,
   "id": "59477f44-875f-4ecd-9e86-28e23a2240e2",
   "metadata": {},
   "outputs": [],
   "source": [
    "budget['release_date'] = pd.to_datetime(budget['release_date'], errors='coerce')"
   ]
  },
  {
   "cell_type": "code",
   "execution_count": 119,
   "id": "0d0ed99e-565a-4bea-9a34-0d1b2305ecff",
   "metadata": {},
   "outputs": [],
   "source": [
    "budget['year'] = budget['release_date'].dt.year"
   ]
  },
  {
   "cell_type": "code",
   "execution_count": 120,
   "id": "41e64d8b-474d-43f5-8cbe-5bf8c58c8066",
   "metadata": {},
   "outputs": [],
   "source": [
    "yearly_gross = budget.groupby('year')[['domestic_gross_x', 'foreign_gross_estimate']].sum()\n",
    "yearly_gross = yearly_gross.loc[(yearly_gross.index >= 1980) & (yearly_gross.index <= 2023)]"
   ]
  },
  {
   "cell_type": "code",
   "execution_count": 121,
   "id": "0ce4243d-3b69-4d65-92bf-49b2290afe5a",
   "metadata": {},
   "outputs": [
    {
     "data": {
      "image/png": "[encoded data removed]",
      "text/plain": [
       "<Figure size 1200x600 with 1 Axes>"
      ]
     },
     "metadata": {},
     "output_type": "display_data"
    }
   ],
   "source": [
    "plt.figure(figsize=(12, 6))\n",
    "plt.plot(yearly_gross.index, yearly_gross['domestic_gross_x'], label='Domestic Gross', color='royalblue', marker='*')\n",
    "plt.plot(yearly_gross.index, yearly_gross['foreign_gross_estimate'], label='Foreign Gross', color='hotpink', marker='o')\n",
    "\n",
    "# Styling\n",
    "plt.title('Domestic vs Foreign Gross Revenue Over the Years')\n",
    "plt.xlabel('Year')\n",
    "plt.ylabel('Gross Revenue (USD)')\n",
    "plt.legend()\n",
    "plt.grid(True)\n",
    "plt.tight_layout()\n",
    "plt.savefig('Domestic vs Foreign gross.png', dpi=300, bbox_inches='tight')\n",
    "plt.show()"
   ]
  },
  {
   "cell_type": "markdown",
   "id": "897a9fea-83f2-4d94-a9e6-033894949531",
   "metadata": {},
   "source": [
    "# Overall Growth (1980–2015):\n",
    "\n",
    "Both Domestic (blue line) and Foreign (pink line) gross revenues increased steadily over time.\n",
    "\n",
    "Around the mid-2000s, foreign gross starts to consistently exceed domestic gross. This suggests that international markets became increasingly important for box office success.\n",
    "\n",
    "# Foreign Gross Peaks:\n",
    "\n",
    "Foreign revenue hit its highest point around 2015–2018.\n",
    "\n",
    "The foreign market clearly dominated in revenue compared to domestic in this period.This can be attributed to the fact that movies translated well across all cultures,they started dubbing them in native languages that would be understood by other Regions and this led to more theaters being built and increased movie attendance globally.\n",
    "\n",
    "# Dip After 2019:\n",
    "\n",
    "There is a sharp drop in both domestic and foreign revenues in 2020, likely due to the **COVID-19 pandemic** that severely affected global film production and theater attendance.This was a tough time for the movie industry but this also led to the rise of streaming platforms for example Netflix,Hulu and now people could access films without leaving there homes.\n",
    "\n",
    "# Final verdict(Foreign vs. Domestic):\n",
    "\n",
    "Throughout the later years (2000s onward), the foreign gross outpaced the domestic gross, indicating studios were earning more from international audiences.\n",
    "\n",
    "# Currently \n",
    "**Studio release films both in theaters and on streaming platforms this has unlocked new revenue models.This explansion caters for people who don't go to watch films in studios' and is a much cheaper option in comparison.**"
   ]
  },
  {
   "cell_type": "markdown",
   "id": "396566f4-bd47-47c6-b02e-10e61caefbf5",
   "metadata": {},
   "source": [
    "# 7 CONCLUSION"
   ]
  },
  {
   "cell_type": "markdown",
   "id": "285130cb-c5c8-4566-a7fb-9f23f3e3004c",
   "metadata": {},
   "source": [
    "* The most popular genre is Drama constituting 26.1% of all the movies.\n",
    "* **R** (Restricted) consitute 42.0% of all the movies and **PG-13** (parents strongly cautioned) is 31.6%.\n",
    "*  A small number of movies make huge profits,likely representing blockbuster hits which are the exceptions while majority of the movies make negative profits and this is due to the high-risk nature of the movie industry because most movies are either a hit or a miss.\n",
    "*  Throughout the later years (2000s onward), the foreign gross outpaced the domestic gross, indicating studios were earning more from international audience.\n",
    "*  The relationship between Worldwide gross and production Budget is positive correlation because there is a visible upward trend as there is an increase in production there is also a increase in the worldwide gross\n",
    "*  The foreign market clearly dominated in revenue compared to domestic from the year 2015 to 2018.\n",
    "*  The Studio with the highest budget is BUENA VISTA(BV) ,a distribution label for Walt Disney Studios Motion Pictures,which has allocates a budget of 9,450,800,000 to it's movie production.\n",
    "*  Drama has the highest number of reviews overall.It has more fresh than rotten reviews we can say it was generally well-received.\n",
    "*  There was a sharp drop in both domestic and foreign revenues in 2020, likely due to the **COVID-19 pandemic** that severely affected global film production and theater attendance.\n",
    "*  Genres e.g., Gay and Lesbian, Cult Movies, Anime and Manga have very few reviews. This could indicate niche audiences or fewer total films reviewed in these genres."
   ]
  },
  {
   "cell_type": "markdown",
   "id": "32fa5b5a-f96c-4e01-a916-68e255790ac8",
   "metadata": {},
   "source": [
    "# 8 RECOMMENDATIONS"
   ]
  },
  {
   "cell_type": "markdown",
   "id": "fc1e6bd0-76ec-4189-a2d1-27713189f7df",
   "metadata": {},
   "source": [
    "* The stakeholders can invest in genres like Drama, Adventure, Romance, Crime and Mystery because they have a balance between popularity and also have a generally good overall rating.\n",
    "* The stakeholders should invest in movies that are rated PG-13 films because they will give us a broad audience,while investing in R-rated films gives us a creative flexiblity because of the targeted age group and a niche appeal to the consumers.\n",
    "* The stakeholders can avoid spending  more on movie production and factor in other aspects e.g Release date , Cast ,genre inorder to have a profitable return on investment because it's not a guarntee that the more you spend on movie the movies the more profit you make but it does increase the potential other factors being constant.\n",
    "* The stakeholders can invest in unlocking new revenue models such as adding movies to streaming platforms because of the risky nature of the industry and the state of the world e.g a Pandemic like the COVID-19.\n",
    "* The stakeholders should focus catering to the international market because of the upward trend in the increase of foriegn gross over the years especially  in the 2000's\n",
    "* The stakeholders should pay attention to the stiff competition like BUENA VISTA(BV) which is  distribution label for Walt Disney Studios Motion Pictures allocates a budget of 9,450,800,000 to it's movie production and look for investors who are intrested to invest in the company.\n",
    "\n",
    "## Investing in the movie industry remains high risk, but it's also high reward if studios are agile, data-driven, and global-minded. During the COVID 19 pandemic the industry showed that it can evolved quickly, and the demand for entertainment hasn’t diminished only the delivery has changed.\n",
    "#                        **High risk fuels high reward—just like every great blockbuster.**"
   ]
  },
  {
   "cell_type": "code",
   "execution_count": null,
   "id": "0cb5a788-008f-4ccf-b33e-dd06ef70a3f7",
   "metadata": {},
   "outputs": [],
   "source": []
  }
 ],
 "metadata": {
  "kernelspec": {
   "display_name": "Python [conda env:base] *",
   "language": "python",
   "name": "conda-base-py"
  },
  "language_info": {
   "codemirror_mode": {
    "name": "ipython",
    "version": 3
   },
   "file_extension": ".py",
   "mimetype": "text/x-python",
   "name": "python",
   "nbconvert_exporter": "python",
   "pygments_lexer": "ipython3",
   "version": "3.12.7"
  }
 },
 "nbformat": 4,
 "nbformat_minor": 5
}
